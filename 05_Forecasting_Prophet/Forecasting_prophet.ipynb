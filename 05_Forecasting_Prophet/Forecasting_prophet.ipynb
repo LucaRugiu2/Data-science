{
 "cells": [
  {
   "cell_type": "markdown",
   "metadata": {},
   "source": [
    "# Forecasting with Facebook Prophet\n",
    "\n",
    "Welcome to the world of advanced time series forecasting! In this guide, we'll delve into the powerful capabilities of [Facebook Prophet](https://facebook.github.io/prophet/), a robust open-source tool designed for accurate and efficient time series forecasting. Whether you're a data scientist, analyst, or just someone keen on predicting future trends, Prophet can be your go-to solution.\n",
    "\n",
    "## What is Facebook Prophet?\n",
    "\n",
    "**Facebook Prophet** is a forecasting tool developed by the data science team at Facebook. It's specifically crafted to handle time series data with daily observations that display patterns such as holidays and special events. Prophet is designed to be user-friendly, making it accessible to both beginners and experienced forecasters. With its automatic handling of seasonality, holidays, and outliers, Prophet simplifies the forecasting process while delivering accurate and interpretable results.\n",
    "\n",
    "## What You'll Learn\n",
    "\n",
    "In this guide, we'll walk you through the key features of Prophet, step-by-step implementation, and best practices for optimizing your forecasts. Whether you're forecasting stock prices, demand for a product, or any other time-dependent data, this guide aims to equip you with the knowledge and skills to harness the full potential of Facebook Prophet.\n",
    "\n",
    "Let's embark on the journey of unlocking insights from your time series data and making informed decisions based on accurate forecasts. Happy forecasting! 🚀"
   ]
  },
  {
   "cell_type": "markdown",
   "metadata": {},
   "source": [
    "## Loading the data\n",
    "\n",
    "I made a dataset for this exercise, where we can see the development of visits to a web platform between 2016 and 2023"
   ]
  },
  {
   "cell_type": "code",
   "execution_count": 1,
   "metadata": {},
   "outputs": [
    {
     "data": {
      "text/html": [
       "<div>\n",
       "<style scoped>\n",
       "    .dataframe tbody tr th:only-of-type {\n",
       "        vertical-align: middle;\n",
       "    }\n",
       "\n",
       "    .dataframe tbody tr th {\n",
       "        vertical-align: top;\n",
       "    }\n",
       "\n",
       "    .dataframe thead th {\n",
       "        text-align: right;\n",
       "    }\n",
       "</style>\n",
       "<table border=\"1\" class=\"dataframe\">\n",
       "  <thead>\n",
       "    <tr style=\"text-align: right;\">\n",
       "      <th></th>\n",
       "      <th>MONTH_ID</th>\n",
       "      <th>VISITS</th>\n",
       "    </tr>\n",
       "  </thead>\n",
       "  <tbody>\n",
       "    <tr>\n",
       "      <th>0</th>\n",
       "      <td>01/01/2016</td>\n",
       "      <td>17280159</td>\n",
       "    </tr>\n",
       "    <tr>\n",
       "      <th>1</th>\n",
       "      <td>01/02/2016</td>\n",
       "      <td>18732101</td>\n",
       "    </tr>\n",
       "    <tr>\n",
       "      <th>2</th>\n",
       "      <td>01/03/2016</td>\n",
       "      <td>19599117</td>\n",
       "    </tr>\n",
       "    <tr>\n",
       "      <th>3</th>\n",
       "      <td>01/04/2016</td>\n",
       "      <td>18833381</td>\n",
       "    </tr>\n",
       "    <tr>\n",
       "      <th>4</th>\n",
       "      <td>01/05/2016</td>\n",
       "      <td>20404516</td>\n",
       "    </tr>\n",
       "  </tbody>\n",
       "</table>\n",
       "</div>"
      ],
      "text/plain": [
       "     MONTH_ID    VISITS\n",
       "0  01/01/2016  17280159\n",
       "1  01/02/2016  18732101\n",
       "2  01/03/2016  19599117\n",
       "3  01/04/2016  18833381\n",
       "4  01/05/2016  20404516"
      ]
     },
     "execution_count": 1,
     "metadata": {},
     "output_type": "execute_result"
    }
   ],
   "source": [
    "import pandas as pd\n",
    "df = pd.read_csv('/Users/lucarugiu/Desktop/Git_portfolio/05_Forecasting_Prophet/prophet_input.csv')\n",
    "df.head()"
   ]
  },
  {
   "cell_type": "code",
   "execution_count": 2,
   "metadata": {},
   "outputs": [],
   "source": [
    "KPI = 'VISITS'     \n",
    "\n",
    "# Filter the DataFrame to select rows where KPI is not null\n",
    "df = df.loc[df[KPI] > 0]\n",
    "\n",
    "selected_columns = ['MONTH_ID', KPI]\n",
    "\n",
    "# Create a copy of the selected data\n",
    "data = df[selected_columns].copy()"
   ]
  },
  {
   "cell_type": "code",
   "execution_count": 3,
   "metadata": {},
   "outputs": [
    {
     "data": {
      "application/vnd.plotly.v1+json": {
       "config": {
        "plotlyServerURL": "https://plot.ly"
       },
       "data": [
        {
         "hovertemplate": "variable=VISITS<br>MONTH_ID=%{x}<br>value=%{y}<extra></extra>",
         "legendgroup": "VISITS",
         "line": {
          "color": "#636efa",
          "dash": "solid"
         },
         "marker": {
          "symbol": "circle"
         },
         "mode": "lines",
         "name": "VISITS",
         "orientation": "v",
         "showlegend": true,
         "type": "scatter",
         "x": [
          "01/01/2016",
          "01/02/2016",
          "01/03/2016",
          "01/04/2016",
          "01/05/2016",
          "01/06/2016",
          "01/07/2016",
          "01/08/2016",
          "01/09/2016",
          "01/10/2016",
          "01/11/2016",
          "01/12/2016",
          "01/01/2017",
          "01/02/2017",
          "01/03/2017",
          "01/04/2017",
          "01/05/2017",
          "01/06/2017",
          "01/07/2017",
          "01/08/2017",
          "01/09/2017",
          "01/10/2017",
          "01/11/2017",
          "01/12/2017",
          "01/01/2018",
          "01/02/2018",
          "01/03/2018",
          "01/04/2018",
          "01/05/2018",
          "01/06/2018",
          "01/07/2018",
          "01/08/2018",
          "01/09/2018",
          "01/10/2018",
          "01/11/2018",
          "01/12/2018",
          "01/01/2019",
          "01/02/2019",
          "01/03/2019",
          "01/04/2019",
          "01/05/2019",
          "01/06/2019",
          "01/07/2019",
          "01/08/2019",
          "01/09/2019",
          "01/10/2019",
          "01/11/2019",
          "01/12/2019",
          "01/01/2020",
          "01/02/2020",
          "01/03/2020",
          "01/04/2020",
          "01/05/2020",
          "01/06/2020",
          "01/07/2020",
          "01/08/2020",
          "01/09/2020",
          "01/10/2020",
          "01/11/2020",
          "01/12/2020",
          "01/01/2021",
          "01/02/2021",
          "01/03/2021",
          "01/04/2021",
          "01/05/2021",
          "01/06/2021",
          "01/07/2021",
          "01/08/2021",
          "01/09/2021",
          "01/10/2021",
          "01/11/2021",
          "01/12/2021",
          "01/01/2022",
          "01/02/2022",
          "01/03/2022",
          "01/04/2022",
          "01/05/2022",
          "01/06/2022",
          "01/07/2022",
          "01/08/2022",
          "01/09/2022",
          "01/10/2022",
          "01/11/2022",
          "01/12/2022",
          "01/01/2023",
          "01/02/2023",
          "01/03/2023",
          "01/04/2023",
          "01/05/2023",
          "01/06/2023",
          "01/07/2023",
          "01/08/2023",
          "01/09/2023",
          "01/10/2023",
          "01/11/2023",
          "01/12/2023"
         ],
         "xaxis": "x",
         "y": [
          17280159,
          18732101,
          19599117,
          18833381,
          20404516,
          20580288,
          25000383,
          21436900,
          25870659,
          20422936,
          23170151,
          24135224,
          21312976,
          22764918,
          23631934,
          22866198,
          24437333,
          24613105,
          29033200,
          25469717,
          29903476,
          24455753,
          27202968,
          28168041,
          21812976,
          27764918,
          28631934,
          27866198,
          29437333,
          29613105,
          34033200,
          30469717,
          34903476,
          29455753,
          32202968,
          33168041,
          26812976,
          28964918,
          29831934,
          29066198,
          30637333,
          30813105,
          35233200,
          31669717,
          36103476,
          30655753,
          33402968,
          34368041,
          26862976,
          29014918,
          29881934,
          29116198,
          30687333,
          30863105,
          35283200,
          31719717,
          36153476,
          30705753,
          33452968,
          34418041,
          34862122,
          35855196,
          37115092,
          36285785,
          38761595,
          36869631,
          42293069,
          40909010,
          45039593,
          39311837,
          45315371,
          47252237,
          45890360,
          43515565,
          45897469,
          45364497,
          51265802,
          52330101,
          57772721,
          52039219,
          54540807,
          47852442,
          51410765,
          52001000,
          48536755,
          48766982,
          50814861,
          49300136,
          49539188,
          49287606,
          55485967,
          54895860,
          56698911,
          59503038,
          61667418,
          63831799
         ],
         "yaxis": "y"
        },
        {
         "hovertemplate": "variable=MA12<br>MONTH_ID=%{x}<br>value=%{y}<extra></extra>",
         "legendgroup": "MA12",
         "line": {
          "color": "#EF553B",
          "dash": "solid"
         },
         "marker": {
          "symbol": "circle"
         },
         "mode": "lines",
         "name": "MA12",
         "orientation": "v",
         "showlegend": true,
         "type": "scatter",
         "x": [
          "01/01/2016",
          "01/02/2016",
          "01/03/2016",
          "01/04/2016",
          "01/05/2016",
          "01/06/2016",
          "01/07/2016",
          "01/08/2016",
          "01/09/2016",
          "01/10/2016",
          "01/11/2016",
          "01/12/2016",
          "01/01/2017",
          "01/02/2017",
          "01/03/2017",
          "01/04/2017",
          "01/05/2017",
          "01/06/2017",
          "01/07/2017",
          "01/08/2017",
          "01/09/2017",
          "01/10/2017",
          "01/11/2017",
          "01/12/2017",
          "01/01/2018",
          "01/02/2018",
          "01/03/2018",
          "01/04/2018",
          "01/05/2018",
          "01/06/2018",
          "01/07/2018",
          "01/08/2018",
          "01/09/2018",
          "01/10/2018",
          "01/11/2018",
          "01/12/2018",
          "01/01/2019",
          "01/02/2019",
          "01/03/2019",
          "01/04/2019",
          "01/05/2019",
          "01/06/2019",
          "01/07/2019",
          "01/08/2019",
          "01/09/2019",
          "01/10/2019",
          "01/11/2019",
          "01/12/2019",
          "01/01/2020",
          "01/02/2020",
          "01/03/2020",
          "01/04/2020",
          "01/05/2020",
          "01/06/2020",
          "01/07/2020",
          "01/08/2020",
          "01/09/2020",
          "01/10/2020",
          "01/11/2020",
          "01/12/2020",
          "01/01/2021",
          "01/02/2021",
          "01/03/2021",
          "01/04/2021",
          "01/05/2021",
          "01/06/2021",
          "01/07/2021",
          "01/08/2021",
          "01/09/2021",
          "01/10/2021",
          "01/11/2021",
          "01/12/2021",
          "01/01/2022",
          "01/02/2022",
          "01/03/2022",
          "01/04/2022",
          "01/05/2022",
          "01/06/2022",
          "01/07/2022",
          "01/08/2022",
          "01/09/2022",
          "01/10/2022",
          "01/11/2022",
          "01/12/2022",
          "01/01/2023",
          "01/02/2023",
          "01/03/2023",
          "01/04/2023",
          "01/05/2023",
          "01/06/2023",
          "01/07/2023",
          "01/08/2023",
          "01/09/2023",
          "01/10/2023",
          "01/11/2023",
          "01/12/2023"
         ],
         "xaxis": "x",
         "y": [
          null,
          null,
          null,
          null,
          null,
          null,
          null,
          null,
          null,
          null,
          null,
          21288817.916666668,
          21624886,
          21960954.083333332,
          22297022.166666668,
          22633090.25,
          22969158.333333332,
          23305226.416666668,
          23641294.5,
          23977362.583333332,
          24313430.666666668,
          24649498.75,
          24985566.833333332,
          25321634.916666668,
          25363301.583333332,
          25779968.25,
          26196634.916666668,
          26613301.583333332,
          27029968.25,
          27446634.916666668,
          27863301.583333332,
          28279968.25,
          28696634.916666668,
          29113301.583333332,
          29529968.25,
          29946634.916666668,
          30363301.583333332,
          30463301.583333332,
          30563301.583333332,
          30663301.583333332,
          30763301.583333332,
          30863301.583333332,
          30963301.583333332,
          31063301.583333332,
          31163301.583333332,
          31263301.583333332,
          31363301.583333332,
          31463301.583333332,
          31467468.25,
          31471634.916666668,
          31475801.583333332,
          31479968.25,
          31484134.916666668,
          31488301.583333332,
          31492468.25,
          31496634.916666668,
          31500801.583333332,
          31504968.25,
          31509134.916666668,
          31513301.583333332,
          32179897.083333332,
          32749920.25,
          33352683.416666668,
          33950149,
          34623004.166666664,
          35123548,
          35707703.75,
          36473478.166666664,
          37213987.916666664,
          37931161.583333336,
          38919695.166666664,
          39989211.5,
          40908231.333333336,
          41546595.416666664,
          42278460.166666664,
          43035019.5,
          44077036.75,
          45365409.25,
          46655380.25,
          47582897.666666664,
          48374665.5,
          49086382.583333336,
          49594332.083333336,
          49990062.333333336,
          50210595.25,
          50648213.333333336,
          51057996,
          51385965.916666664,
          51242081.416666664,
          50988540.166666664,
          50797977.333333336,
          51036030.75,
          51215872.75,
          52186755.75,
          53041476.833333336,
          54027376.75
         ],
         "yaxis": "y"
        }
       ],
       "layout": {
        "legend": {
         "title": {
          "text": "variable"
         },
         "tracegroupgap": 0
        },
        "margin": {
         "t": 60
        },
        "template": {
         "data": {
          "bar": [
           {
            "error_x": {
             "color": "#f2f5fa"
            },
            "error_y": {
             "color": "#f2f5fa"
            },
            "marker": {
             "line": {
              "color": "rgb(17,17,17)",
              "width": 0.5
             },
             "pattern": {
              "fillmode": "overlay",
              "size": 10,
              "solidity": 0.2
             }
            },
            "type": "bar"
           }
          ],
          "barpolar": [
           {
            "marker": {
             "line": {
              "color": "rgb(17,17,17)",
              "width": 0.5
             },
             "pattern": {
              "fillmode": "overlay",
              "size": 10,
              "solidity": 0.2
             }
            },
            "type": "barpolar"
           }
          ],
          "carpet": [
           {
            "aaxis": {
             "endlinecolor": "#A2B1C6",
             "gridcolor": "#506784",
             "linecolor": "#506784",
             "minorgridcolor": "#506784",
             "startlinecolor": "#A2B1C6"
            },
            "baxis": {
             "endlinecolor": "#A2B1C6",
             "gridcolor": "#506784",
             "linecolor": "#506784",
             "minorgridcolor": "#506784",
             "startlinecolor": "#A2B1C6"
            },
            "type": "carpet"
           }
          ],
          "choropleth": [
           {
            "colorbar": {
             "outlinewidth": 0,
             "ticks": ""
            },
            "type": "choropleth"
           }
          ],
          "contour": [
           {
            "colorbar": {
             "outlinewidth": 0,
             "ticks": ""
            },
            "colorscale": [
             [
              0,
              "#0d0887"
             ],
             [
              0.1111111111111111,
              "#46039f"
             ],
             [
              0.2222222222222222,
              "#7201a8"
             ],
             [
              0.3333333333333333,
              "#9c179e"
             ],
             [
              0.4444444444444444,
              "#bd3786"
             ],
             [
              0.5555555555555556,
              "#d8576b"
             ],
             [
              0.6666666666666666,
              "#ed7953"
             ],
             [
              0.7777777777777778,
              "#fb9f3a"
             ],
             [
              0.8888888888888888,
              "#fdca26"
             ],
             [
              1,
              "#f0f921"
             ]
            ],
            "type": "contour"
           }
          ],
          "contourcarpet": [
           {
            "colorbar": {
             "outlinewidth": 0,
             "ticks": ""
            },
            "type": "contourcarpet"
           }
          ],
          "heatmap": [
           {
            "colorbar": {
             "outlinewidth": 0,
             "ticks": ""
            },
            "colorscale": [
             [
              0,
              "#0d0887"
             ],
             [
              0.1111111111111111,
              "#46039f"
             ],
             [
              0.2222222222222222,
              "#7201a8"
             ],
             [
              0.3333333333333333,
              "#9c179e"
             ],
             [
              0.4444444444444444,
              "#bd3786"
             ],
             [
              0.5555555555555556,
              "#d8576b"
             ],
             [
              0.6666666666666666,
              "#ed7953"
             ],
             [
              0.7777777777777778,
              "#fb9f3a"
             ],
             [
              0.8888888888888888,
              "#fdca26"
             ],
             [
              1,
              "#f0f921"
             ]
            ],
            "type": "heatmap"
           }
          ],
          "heatmapgl": [
           {
            "colorbar": {
             "outlinewidth": 0,
             "ticks": ""
            },
            "colorscale": [
             [
              0,
              "#0d0887"
             ],
             [
              0.1111111111111111,
              "#46039f"
             ],
             [
              0.2222222222222222,
              "#7201a8"
             ],
             [
              0.3333333333333333,
              "#9c179e"
             ],
             [
              0.4444444444444444,
              "#bd3786"
             ],
             [
              0.5555555555555556,
              "#d8576b"
             ],
             [
              0.6666666666666666,
              "#ed7953"
             ],
             [
              0.7777777777777778,
              "#fb9f3a"
             ],
             [
              0.8888888888888888,
              "#fdca26"
             ],
             [
              1,
              "#f0f921"
             ]
            ],
            "type": "heatmapgl"
           }
          ],
          "histogram": [
           {
            "marker": {
             "pattern": {
              "fillmode": "overlay",
              "size": 10,
              "solidity": 0.2
             }
            },
            "type": "histogram"
           }
          ],
          "histogram2d": [
           {
            "colorbar": {
             "outlinewidth": 0,
             "ticks": ""
            },
            "colorscale": [
             [
              0,
              "#0d0887"
             ],
             [
              0.1111111111111111,
              "#46039f"
             ],
             [
              0.2222222222222222,
              "#7201a8"
             ],
             [
              0.3333333333333333,
              "#9c179e"
             ],
             [
              0.4444444444444444,
              "#bd3786"
             ],
             [
              0.5555555555555556,
              "#d8576b"
             ],
             [
              0.6666666666666666,
              "#ed7953"
             ],
             [
              0.7777777777777778,
              "#fb9f3a"
             ],
             [
              0.8888888888888888,
              "#fdca26"
             ],
             [
              1,
              "#f0f921"
             ]
            ],
            "type": "histogram2d"
           }
          ],
          "histogram2dcontour": [
           {
            "colorbar": {
             "outlinewidth": 0,
             "ticks": ""
            },
            "colorscale": [
             [
              0,
              "#0d0887"
             ],
             [
              0.1111111111111111,
              "#46039f"
             ],
             [
              0.2222222222222222,
              "#7201a8"
             ],
             [
              0.3333333333333333,
              "#9c179e"
             ],
             [
              0.4444444444444444,
              "#bd3786"
             ],
             [
              0.5555555555555556,
              "#d8576b"
             ],
             [
              0.6666666666666666,
              "#ed7953"
             ],
             [
              0.7777777777777778,
              "#fb9f3a"
             ],
             [
              0.8888888888888888,
              "#fdca26"
             ],
             [
              1,
              "#f0f921"
             ]
            ],
            "type": "histogram2dcontour"
           }
          ],
          "mesh3d": [
           {
            "colorbar": {
             "outlinewidth": 0,
             "ticks": ""
            },
            "type": "mesh3d"
           }
          ],
          "parcoords": [
           {
            "line": {
             "colorbar": {
              "outlinewidth": 0,
              "ticks": ""
             }
            },
            "type": "parcoords"
           }
          ],
          "pie": [
           {
            "automargin": true,
            "type": "pie"
           }
          ],
          "scatter": [
           {
            "marker": {
             "line": {
              "color": "#283442"
             }
            },
            "type": "scatter"
           }
          ],
          "scatter3d": [
           {
            "line": {
             "colorbar": {
              "outlinewidth": 0,
              "ticks": ""
             }
            },
            "marker": {
             "colorbar": {
              "outlinewidth": 0,
              "ticks": ""
             }
            },
            "type": "scatter3d"
           }
          ],
          "scattercarpet": [
           {
            "marker": {
             "colorbar": {
              "outlinewidth": 0,
              "ticks": ""
             }
            },
            "type": "scattercarpet"
           }
          ],
          "scattergeo": [
           {
            "marker": {
             "colorbar": {
              "outlinewidth": 0,
              "ticks": ""
             }
            },
            "type": "scattergeo"
           }
          ],
          "scattergl": [
           {
            "marker": {
             "line": {
              "color": "#283442"
             }
            },
            "type": "scattergl"
           }
          ],
          "scattermapbox": [
           {
            "marker": {
             "colorbar": {
              "outlinewidth": 0,
              "ticks": ""
             }
            },
            "type": "scattermapbox"
           }
          ],
          "scatterpolar": [
           {
            "marker": {
             "colorbar": {
              "outlinewidth": 0,
              "ticks": ""
             }
            },
            "type": "scatterpolar"
           }
          ],
          "scatterpolargl": [
           {
            "marker": {
             "colorbar": {
              "outlinewidth": 0,
              "ticks": ""
             }
            },
            "type": "scatterpolargl"
           }
          ],
          "scatterternary": [
           {
            "marker": {
             "colorbar": {
              "outlinewidth": 0,
              "ticks": ""
             }
            },
            "type": "scatterternary"
           }
          ],
          "surface": [
           {
            "colorbar": {
             "outlinewidth": 0,
             "ticks": ""
            },
            "colorscale": [
             [
              0,
              "#0d0887"
             ],
             [
              0.1111111111111111,
              "#46039f"
             ],
             [
              0.2222222222222222,
              "#7201a8"
             ],
             [
              0.3333333333333333,
              "#9c179e"
             ],
             [
              0.4444444444444444,
              "#bd3786"
             ],
             [
              0.5555555555555556,
              "#d8576b"
             ],
             [
              0.6666666666666666,
              "#ed7953"
             ],
             [
              0.7777777777777778,
              "#fb9f3a"
             ],
             [
              0.8888888888888888,
              "#fdca26"
             ],
             [
              1,
              "#f0f921"
             ]
            ],
            "type": "surface"
           }
          ],
          "table": [
           {
            "cells": {
             "fill": {
              "color": "#506784"
             },
             "line": {
              "color": "rgb(17,17,17)"
             }
            },
            "header": {
             "fill": {
              "color": "#2a3f5f"
             },
             "line": {
              "color": "rgb(17,17,17)"
             }
            },
            "type": "table"
           }
          ]
         },
         "layout": {
          "annotationdefaults": {
           "arrowcolor": "#f2f5fa",
           "arrowhead": 0,
           "arrowwidth": 1
          },
          "autotypenumbers": "strict",
          "coloraxis": {
           "colorbar": {
            "outlinewidth": 0,
            "ticks": ""
           }
          },
          "colorscale": {
           "diverging": [
            [
             0,
             "#8e0152"
            ],
            [
             0.1,
             "#c51b7d"
            ],
            [
             0.2,
             "#de77ae"
            ],
            [
             0.3,
             "#f1b6da"
            ],
            [
             0.4,
             "#fde0ef"
            ],
            [
             0.5,
             "#f7f7f7"
            ],
            [
             0.6,
             "#e6f5d0"
            ],
            [
             0.7,
             "#b8e186"
            ],
            [
             0.8,
             "#7fbc41"
            ],
            [
             0.9,
             "#4d9221"
            ],
            [
             1,
             "#276419"
            ]
           ],
           "sequential": [
            [
             0,
             "#0d0887"
            ],
            [
             0.1111111111111111,
             "#46039f"
            ],
            [
             0.2222222222222222,
             "#7201a8"
            ],
            [
             0.3333333333333333,
             "#9c179e"
            ],
            [
             0.4444444444444444,
             "#bd3786"
            ],
            [
             0.5555555555555556,
             "#d8576b"
            ],
            [
             0.6666666666666666,
             "#ed7953"
            ],
            [
             0.7777777777777778,
             "#fb9f3a"
            ],
            [
             0.8888888888888888,
             "#fdca26"
            ],
            [
             1,
             "#f0f921"
            ]
           ],
           "sequentialminus": [
            [
             0,
             "#0d0887"
            ],
            [
             0.1111111111111111,
             "#46039f"
            ],
            [
             0.2222222222222222,
             "#7201a8"
            ],
            [
             0.3333333333333333,
             "#9c179e"
            ],
            [
             0.4444444444444444,
             "#bd3786"
            ],
            [
             0.5555555555555556,
             "#d8576b"
            ],
            [
             0.6666666666666666,
             "#ed7953"
            ],
            [
             0.7777777777777778,
             "#fb9f3a"
            ],
            [
             0.8888888888888888,
             "#fdca26"
            ],
            [
             1,
             "#f0f921"
            ]
           ]
          },
          "colorway": [
           "#636efa",
           "#EF553B",
           "#00cc96",
           "#ab63fa",
           "#FFA15A",
           "#19d3f3",
           "#FF6692",
           "#B6E880",
           "#FF97FF",
           "#FECB52"
          ],
          "font": {
           "color": "#f2f5fa"
          },
          "geo": {
           "bgcolor": "rgb(17,17,17)",
           "lakecolor": "rgb(17,17,17)",
           "landcolor": "rgb(17,17,17)",
           "showlakes": true,
           "showland": true,
           "subunitcolor": "#506784"
          },
          "hoverlabel": {
           "align": "left"
          },
          "hovermode": "closest",
          "mapbox": {
           "style": "dark"
          },
          "paper_bgcolor": "rgb(17,17,17)",
          "plot_bgcolor": "rgb(17,17,17)",
          "polar": {
           "angularaxis": {
            "gridcolor": "#506784",
            "linecolor": "#506784",
            "ticks": ""
           },
           "bgcolor": "rgb(17,17,17)",
           "radialaxis": {
            "gridcolor": "#506784",
            "linecolor": "#506784",
            "ticks": ""
           }
          },
          "scene": {
           "xaxis": {
            "backgroundcolor": "rgb(17,17,17)",
            "gridcolor": "#506784",
            "gridwidth": 2,
            "linecolor": "#506784",
            "showbackground": true,
            "ticks": "",
            "zerolinecolor": "#C8D4E3"
           },
           "yaxis": {
            "backgroundcolor": "rgb(17,17,17)",
            "gridcolor": "#506784",
            "gridwidth": 2,
            "linecolor": "#506784",
            "showbackground": true,
            "ticks": "",
            "zerolinecolor": "#C8D4E3"
           },
           "zaxis": {
            "backgroundcolor": "rgb(17,17,17)",
            "gridcolor": "#506784",
            "gridwidth": 2,
            "linecolor": "#506784",
            "showbackground": true,
            "ticks": "",
            "zerolinecolor": "#C8D4E3"
           }
          },
          "shapedefaults": {
           "line": {
            "color": "#f2f5fa"
           }
          },
          "sliderdefaults": {
           "bgcolor": "#C8D4E3",
           "bordercolor": "rgb(17,17,17)",
           "borderwidth": 1,
           "tickwidth": 0
          },
          "ternary": {
           "aaxis": {
            "gridcolor": "#506784",
            "linecolor": "#506784",
            "ticks": ""
           },
           "baxis": {
            "gridcolor": "#506784",
            "linecolor": "#506784",
            "ticks": ""
           },
           "bgcolor": "rgb(17,17,17)",
           "caxis": {
            "gridcolor": "#506784",
            "linecolor": "#506784",
            "ticks": ""
           }
          },
          "title": {
           "x": 0.05
          },
          "updatemenudefaults": {
           "bgcolor": "#506784",
           "borderwidth": 0
          },
          "xaxis": {
           "automargin": true,
           "gridcolor": "#283442",
           "linecolor": "#506784",
           "ticks": "",
           "title": {
            "standoff": 15
           },
           "zerolinecolor": "#283442",
           "zerolinewidth": 2
          },
          "yaxis": {
           "automargin": true,
           "gridcolor": "#283442",
           "linecolor": "#506784",
           "ticks": "",
           "title": {
            "standoff": 15
           },
           "zerolinecolor": "#283442",
           "zerolinewidth": 2
          }
         }
        },
        "xaxis": {
         "anchor": "y",
         "domain": [
          0,
          1
         ],
         "title": {
          "text": "MONTH_ID"
         }
        },
        "yaxis": {
         "anchor": "x",
         "domain": [
          0,
          1
         ],
         "title": {
          "text": "value"
         }
        }
       }
      }
     },
     "metadata": {},
     "output_type": "display_data"
    }
   ],
   "source": [
    "# create monthly moving average to have a look at the trend\n",
    "data['MA12'] = data[KPI].rolling(12).mean()\n",
    "# plot the data and MA\n",
    "import plotly.express as px\n",
    "fig = px.line(data, x=\"MONTH_ID\", y=[KPI, \"MA12\"], template = 'plotly_dark')\n",
    "fig.show()"
   ]
  },
  {
   "cell_type": "code",
   "execution_count": 5,
   "metadata": {},
   "outputs": [],
   "source": [
    "#pip install prophet"
   ]
  },
  {
   "cell_type": "code",
   "execution_count": 4,
   "metadata": {},
   "outputs": [
    {
     "data": {
      "text/html": [
       "<div>\n",
       "<style scoped>\n",
       "    .dataframe tbody tr th:only-of-type {\n",
       "        vertical-align: middle;\n",
       "    }\n",
       "\n",
       "    .dataframe tbody tr th {\n",
       "        vertical-align: top;\n",
       "    }\n",
       "\n",
       "    .dataframe thead th {\n",
       "        text-align: right;\n",
       "    }\n",
       "</style>\n",
       "<table border=\"1\" class=\"dataframe\">\n",
       "  <thead>\n",
       "    <tr style=\"text-align: right;\">\n",
       "      <th></th>\n",
       "      <th>MONTH_ID</th>\n",
       "      <th>VISITS</th>\n",
       "    </tr>\n",
       "  </thead>\n",
       "  <tbody>\n",
       "    <tr>\n",
       "      <th>0</th>\n",
       "      <td>01/01/2016</td>\n",
       "      <td>17280159</td>\n",
       "    </tr>\n",
       "    <tr>\n",
       "      <th>1</th>\n",
       "      <td>01/02/2016</td>\n",
       "      <td>18732101</td>\n",
       "    </tr>\n",
       "    <tr>\n",
       "      <th>2</th>\n",
       "      <td>01/03/2016</td>\n",
       "      <td>19599117</td>\n",
       "    </tr>\n",
       "    <tr>\n",
       "      <th>3</th>\n",
       "      <td>01/04/2016</td>\n",
       "      <td>18833381</td>\n",
       "    </tr>\n",
       "    <tr>\n",
       "      <th>4</th>\n",
       "      <td>01/05/2016</td>\n",
       "      <td>20404516</td>\n",
       "    </tr>\n",
       "  </tbody>\n",
       "</table>\n",
       "</div>"
      ],
      "text/plain": [
       "     MONTH_ID    VISITS\n",
       "0  01/01/2016  17280159\n",
       "1  01/02/2016  18732101\n",
       "2  01/03/2016  19599117\n",
       "3  01/04/2016  18833381\n",
       "4  01/05/2016  20404516"
      ]
     },
     "execution_count": 4,
     "metadata": {},
     "output_type": "execute_result"
    }
   ],
   "source": [
    "df.head()"
   ]
  },
  {
   "cell_type": "code",
   "execution_count": 10,
   "metadata": {},
   "outputs": [
    {
     "name": "stderr",
     "output_type": "stream",
     "text": [
      "15:22:01 - cmdstanpy - INFO - Chain [1] start processing\n",
      "15:22:02 - cmdstanpy - INFO - Chain [1] done processing\n"
     ]
    },
    {
     "name": "stdout",
     "output_type": "stream",
     "text": [
      "           ds          yhat    yhat_lower    yhat_upper\n",
      "96 2023-12-31  5.793851e+07  5.469913e+07  6.130065e+07\n",
      "97 2024-01-31  5.927253e+07  5.614152e+07  6.247303e+07\n",
      "98 2024-02-29  5.876779e+07  5.558301e+07  6.204791e+07\n",
      "99 2024-03-31  5.862877e+07  5.531667e+07  6.187102e+07\n"
     ]
    }
   ],
   "source": [
    "import pandas as pd\n",
    "from prophet import Prophet\n",
    "from prophet.plot import plot_plotly, plot_components_plotly\n",
    "\n",
    "# Assuming your dataframe is named 'df' with columns 'MONTH_ID' and 'VISITS'\n",
    "# Rename the columns to match Prophet's required format\n",
    "df = df.rename(columns={'MONTH_ID': 'ds', 'VISITS': 'y'})\n",
    "\n",
    "# Convert the 'ds' column to datetime\n",
    "df['ds'] = pd.to_datetime(df['ds'], format='%d/%m/%Y')\n",
    "\n",
    "# Initialize the Prophet model\n",
    "model = Prophet(\n",
    "    yearly_seasonality=False,  # No yearly seasonality for monthly data\n",
    "    weekly_seasonality=False,  # No weekly seasonality for monthly data\n",
    "    daily_seasonality=False,   # No daily seasonality for monthly data\n",
    "    changepoint_prior_scale=0.9\n",
    ")\n",
    "\n",
    "# Add the monthly seasonality\n",
    "model.add_seasonality(\n",
    "    name='monthly',\n",
    "    period=180.5,\n",
    "    fourier_order=2\n",
    ")\n",
    "\n",
    "# Fit the model\n",
    "model.fit(df)\n",
    "\n",
    "# Create a future DataFrame for prediction (4 months into the future)\n",
    "months_FC = 4  # You need to define this variable\n",
    "future = model.make_future_dataframe(periods=months_FC, freq='M')\n",
    "\n",
    "# Make predictions for the future\n",
    "forecast = model.predict(future)\n",
    "\n",
    "# Extract the predicted values for the next 4 months\n",
    "predicted_values = forecast[['ds', 'yhat', 'yhat_lower', 'yhat_upper']].tail(months_FC)\n",
    "\n",
    "# Display the predicted values\n",
    "print(predicted_values)"
   ]
  },
  {
   "cell_type": "code",
   "execution_count": 11,
   "metadata": {},
   "outputs": [
    {
     "data": {
      "application/vnd.plotly.v1+json": {
       "config": {
        "plotlyServerURL": "https://plot.ly"
       },
       "data": [
        {
         "marker": {
          "color": "black",
          "size": 4
         },
         "mode": "markers",
         "name": "Actual",
         "type": "scatter",
         "x": [
          "2016-01-01T00:00:00",
          "2016-02-01T00:00:00",
          "2016-03-01T00:00:00",
          "2016-04-01T00:00:00",
          "2016-05-01T00:00:00",
          "2016-06-01T00:00:00",
          "2016-07-01T00:00:00",
          "2016-08-01T00:00:00",
          "2016-09-01T00:00:00",
          "2016-10-01T00:00:00",
          "2016-11-01T00:00:00",
          "2016-12-01T00:00:00",
          "2017-01-01T00:00:00",
          "2017-02-01T00:00:00",
          "2017-03-01T00:00:00",
          "2017-04-01T00:00:00",
          "2017-05-01T00:00:00",
          "2017-06-01T00:00:00",
          "2017-07-01T00:00:00",
          "2017-08-01T00:00:00",
          "2017-09-01T00:00:00",
          "2017-10-01T00:00:00",
          "2017-11-01T00:00:00",
          "2017-12-01T00:00:00",
          "2018-01-01T00:00:00",
          "2018-02-01T00:00:00",
          "2018-03-01T00:00:00",
          "2018-04-01T00:00:00",
          "2018-05-01T00:00:00",
          "2018-06-01T00:00:00",
          "2018-07-01T00:00:00",
          "2018-08-01T00:00:00",
          "2018-09-01T00:00:00",
          "2018-10-01T00:00:00",
          "2018-11-01T00:00:00",
          "2018-12-01T00:00:00",
          "2019-01-01T00:00:00",
          "2019-02-01T00:00:00",
          "2019-03-01T00:00:00",
          "2019-04-01T00:00:00",
          "2019-05-01T00:00:00",
          "2019-06-01T00:00:00",
          "2019-07-01T00:00:00",
          "2019-08-01T00:00:00",
          "2019-09-01T00:00:00",
          "2019-10-01T00:00:00",
          "2019-11-01T00:00:00",
          "2019-12-01T00:00:00",
          "2020-01-01T00:00:00",
          "2020-02-01T00:00:00",
          "2020-03-01T00:00:00",
          "2020-04-01T00:00:00",
          "2020-05-01T00:00:00",
          "2020-06-01T00:00:00",
          "2020-07-01T00:00:00",
          "2020-08-01T00:00:00",
          "2020-09-01T00:00:00",
          "2020-10-01T00:00:00",
          "2020-11-01T00:00:00",
          "2020-12-01T00:00:00",
          "2021-01-01T00:00:00",
          "2021-02-01T00:00:00",
          "2021-03-01T00:00:00",
          "2021-04-01T00:00:00",
          "2021-05-01T00:00:00",
          "2021-06-01T00:00:00",
          "2021-07-01T00:00:00",
          "2021-08-01T00:00:00",
          "2021-09-01T00:00:00",
          "2021-10-01T00:00:00",
          "2021-11-01T00:00:00",
          "2021-12-01T00:00:00",
          "2022-01-01T00:00:00",
          "2022-02-01T00:00:00",
          "2022-03-01T00:00:00",
          "2022-04-01T00:00:00",
          "2022-05-01T00:00:00",
          "2022-06-01T00:00:00",
          "2022-07-01T00:00:00",
          "2022-08-01T00:00:00",
          "2022-09-01T00:00:00",
          "2022-10-01T00:00:00",
          "2022-11-01T00:00:00",
          "2022-12-01T00:00:00",
          "2023-01-01T00:00:00",
          "2023-02-01T00:00:00",
          "2023-03-01T00:00:00",
          "2023-04-01T00:00:00",
          "2023-05-01T00:00:00",
          "2023-06-01T00:00:00",
          "2023-07-01T00:00:00",
          "2023-08-01T00:00:00",
          "2023-09-01T00:00:00",
          "2023-10-01T00:00:00",
          "2023-11-01T00:00:00",
          "2023-12-01T00:00:00"
         ],
         "y": [
          17280159,
          18732101,
          19599117,
          18833381,
          20404516,
          20580288,
          25000383,
          21436900,
          25870659,
          20422936,
          23170151,
          24135224,
          21312976,
          22764918,
          23631934,
          22866198,
          24437333,
          24613105,
          29033200,
          25469717,
          29903476,
          24455753,
          27202968,
          28168041,
          21812976,
          27764918,
          28631934,
          27866198,
          29437333,
          29613105,
          34033200,
          30469717,
          34903476,
          29455753,
          32202968,
          33168041,
          26812976,
          28964918,
          29831934,
          29066198,
          30637333,
          30813105,
          35233200,
          31669717,
          36103476,
          30655753,
          33402968,
          34368041,
          26862976,
          29014918,
          29881934,
          29116198,
          30687333,
          30863105,
          35283200,
          31719717,
          36153476,
          30705753,
          33452968,
          34418041,
          34862122,
          35855196,
          37115092,
          36285785,
          38761595,
          36869631,
          42293069,
          40909010,
          45039593,
          39311837,
          45315371,
          47252237,
          45890360,
          43515565,
          45897469,
          45364497,
          51265802,
          52330101,
          57772721,
          52039219,
          54540807,
          47852442,
          51410765,
          52001000,
          48536755,
          48766982,
          50814861,
          49300136,
          49539188,
          49287606,
          55485967,
          54895860,
          56698911,
          59503038,
          61667418,
          63831799
         ]
        },
        {
         "hoverinfo": "skip",
         "line": {
          "width": 0
         },
         "mode": "lines",
         "type": "scatter",
         "x": [
          "2016-01-01T00:00:00",
          "2016-02-01T00:00:00",
          "2016-03-01T00:00:00",
          "2016-04-01T00:00:00",
          "2016-05-01T00:00:00",
          "2016-06-01T00:00:00",
          "2016-07-01T00:00:00",
          "2016-08-01T00:00:00",
          "2016-09-01T00:00:00",
          "2016-10-01T00:00:00",
          "2016-11-01T00:00:00",
          "2016-12-01T00:00:00",
          "2017-01-01T00:00:00",
          "2017-02-01T00:00:00",
          "2017-03-01T00:00:00",
          "2017-04-01T00:00:00",
          "2017-05-01T00:00:00",
          "2017-06-01T00:00:00",
          "2017-07-01T00:00:00",
          "2017-08-01T00:00:00",
          "2017-09-01T00:00:00",
          "2017-10-01T00:00:00",
          "2017-11-01T00:00:00",
          "2017-12-01T00:00:00",
          "2018-01-01T00:00:00",
          "2018-02-01T00:00:00",
          "2018-03-01T00:00:00",
          "2018-04-01T00:00:00",
          "2018-05-01T00:00:00",
          "2018-06-01T00:00:00",
          "2018-07-01T00:00:00",
          "2018-08-01T00:00:00",
          "2018-09-01T00:00:00",
          "2018-10-01T00:00:00",
          "2018-11-01T00:00:00",
          "2018-12-01T00:00:00",
          "2019-01-01T00:00:00",
          "2019-02-01T00:00:00",
          "2019-03-01T00:00:00",
          "2019-04-01T00:00:00",
          "2019-05-01T00:00:00",
          "2019-06-01T00:00:00",
          "2019-07-01T00:00:00",
          "2019-08-01T00:00:00",
          "2019-09-01T00:00:00",
          "2019-10-01T00:00:00",
          "2019-11-01T00:00:00",
          "2019-12-01T00:00:00",
          "2020-01-01T00:00:00",
          "2020-02-01T00:00:00",
          "2020-03-01T00:00:00",
          "2020-04-01T00:00:00",
          "2020-05-01T00:00:00",
          "2020-06-01T00:00:00",
          "2020-07-01T00:00:00",
          "2020-08-01T00:00:00",
          "2020-09-01T00:00:00",
          "2020-10-01T00:00:00",
          "2020-11-01T00:00:00",
          "2020-12-01T00:00:00",
          "2021-01-01T00:00:00",
          "2021-02-01T00:00:00",
          "2021-03-01T00:00:00",
          "2021-04-01T00:00:00",
          "2021-05-01T00:00:00",
          "2021-06-01T00:00:00",
          "2021-07-01T00:00:00",
          "2021-08-01T00:00:00",
          "2021-09-01T00:00:00",
          "2021-10-01T00:00:00",
          "2021-11-01T00:00:00",
          "2021-12-01T00:00:00",
          "2022-01-01T00:00:00",
          "2022-02-01T00:00:00",
          "2022-03-01T00:00:00",
          "2022-04-01T00:00:00",
          "2022-05-01T00:00:00",
          "2022-06-01T00:00:00",
          "2022-07-01T00:00:00",
          "2022-08-01T00:00:00",
          "2022-09-01T00:00:00",
          "2022-10-01T00:00:00",
          "2022-11-01T00:00:00",
          "2022-12-01T00:00:00",
          "2023-01-01T00:00:00",
          "2023-02-01T00:00:00",
          "2023-03-01T00:00:00",
          "2023-04-01T00:00:00",
          "2023-05-01T00:00:00",
          "2023-06-01T00:00:00",
          "2023-07-01T00:00:00",
          "2023-08-01T00:00:00",
          "2023-09-01T00:00:00",
          "2023-10-01T00:00:00",
          "2023-11-01T00:00:00",
          "2023-12-01T00:00:00",
          "2023-12-31T00:00:00",
          "2024-01-31T00:00:00",
          "2024-02-29T00:00:00",
          "2024-03-31T00:00:00"
         ],
         "y": [
          15856643.461027646,
          15401336.442336306,
          16514715.382399445,
          16289394.700828692,
          16093110.751302915,
          18335623.831588488,
          18872754.229238193,
          18216568.20671758,
          19247428.961014103,
          18636600.46128368,
          18555870.98632473,
          20831775.499409698,
          20953879.53206406,
          20691021.198099785,
          21436295.11769822,
          21013051.828914214,
          20637640.92164358,
          23020846.101294253,
          22936867.14541412,
          22344582.92319995,
          23676958.49603764,
          22682807.344119493,
          23067925.43753172,
          24920975.77529686,
          24918176.302131183,
          24752268.388898134,
          26033824.35618756,
          25011570.37076997,
          25514167.93588316,
          27791719.010887355,
          27680526.285835974,
          27306996.083528887,
          28087826.647927392,
          26700396.93087744,
          27017515.850477066,
          28879147.533546034,
          27737868.1311703,
          27817689.616879195,
          28405073.35570036,
          26955352.71529302,
          27585775.48058537,
          29232989.80850169,
          28120119.87038485,
          28310401.51753536,
          28583375.86027544,
          27434167.92321304,
          27968028.141856834,
          29140726.365009636,
          28046646.505834498,
          28017472.684733097,
          28039065.93622125,
          26157462.423946854,
          27712081.29128557,
          29789556.55463279,
          28892958.455758136,
          29439919.929458946,
          30023242.6145729,
          29313330.35811159,
          31190736.13759476,
          32498252.806839596,
          31536350.644148182,
          33097914.06610408,
          33820175.241839096,
          33227342.06517327,
          35236187.55307627,
          37288807.91851053,
          36834560.323768616,
          38468776.552197784,
          38730582.72001757,
          38395501.18301234,
          40899496.847099565,
          42105814.60849315,
          41769869.68429398,
          43587667.27392876,
          43986608.34818534,
          43396554.2355337,
          45512365.95877195,
          46452145.26109728,
          46024227.72104601,
          46988468.40804596,
          47186218.778277785,
          46491092.007542334,
          48635597.896869615,
          49393994.04324438,
          48925603.098841,
          50278269.75839856,
          50125700.746542074,
          49548856.61368378,
          51794463.7512323,
          52280798.80866943,
          51807692.311355956,
          53099837.16634187,
          52690890.11018275,
          52249043.95138139,
          54749226.92326696,
          55250212.490490705,
          54699127.965636045,
          56141522.237254106,
          55583011.50556229,
          55316670.75542207
         ]
        },
        {
         "fill": "tonexty",
         "fillcolor": "rgba(0, 114, 178, 0.2)",
         "line": {
          "color": "#0072B2",
          "width": 2
         },
         "mode": "lines",
         "name": "Predicted",
         "type": "scatter",
         "x": [
          "2016-01-01T00:00:00",
          "2016-02-01T00:00:00",
          "2016-03-01T00:00:00",
          "2016-04-01T00:00:00",
          "2016-05-01T00:00:00",
          "2016-06-01T00:00:00",
          "2016-07-01T00:00:00",
          "2016-08-01T00:00:00",
          "2016-09-01T00:00:00",
          "2016-10-01T00:00:00",
          "2016-11-01T00:00:00",
          "2016-12-01T00:00:00",
          "2017-01-01T00:00:00",
          "2017-02-01T00:00:00",
          "2017-03-01T00:00:00",
          "2017-04-01T00:00:00",
          "2017-05-01T00:00:00",
          "2017-06-01T00:00:00",
          "2017-07-01T00:00:00",
          "2017-08-01T00:00:00",
          "2017-09-01T00:00:00",
          "2017-10-01T00:00:00",
          "2017-11-01T00:00:00",
          "2017-12-01T00:00:00",
          "2018-01-01T00:00:00",
          "2018-02-01T00:00:00",
          "2018-03-01T00:00:00",
          "2018-04-01T00:00:00",
          "2018-05-01T00:00:00",
          "2018-06-01T00:00:00",
          "2018-07-01T00:00:00",
          "2018-08-01T00:00:00",
          "2018-09-01T00:00:00",
          "2018-10-01T00:00:00",
          "2018-11-01T00:00:00",
          "2018-12-01T00:00:00",
          "2019-01-01T00:00:00",
          "2019-02-01T00:00:00",
          "2019-03-01T00:00:00",
          "2019-04-01T00:00:00",
          "2019-05-01T00:00:00",
          "2019-06-01T00:00:00",
          "2019-07-01T00:00:00",
          "2019-08-01T00:00:00",
          "2019-09-01T00:00:00",
          "2019-10-01T00:00:00",
          "2019-11-01T00:00:00",
          "2019-12-01T00:00:00",
          "2020-01-01T00:00:00",
          "2020-02-01T00:00:00",
          "2020-03-01T00:00:00",
          "2020-04-01T00:00:00",
          "2020-05-01T00:00:00",
          "2020-06-01T00:00:00",
          "2020-07-01T00:00:00",
          "2020-08-01T00:00:00",
          "2020-09-01T00:00:00",
          "2020-10-01T00:00:00",
          "2020-11-01T00:00:00",
          "2020-12-01T00:00:00",
          "2021-01-01T00:00:00",
          "2021-02-01T00:00:00",
          "2021-03-01T00:00:00",
          "2021-04-01T00:00:00",
          "2021-05-01T00:00:00",
          "2021-06-01T00:00:00",
          "2021-07-01T00:00:00",
          "2021-08-01T00:00:00",
          "2021-09-01T00:00:00",
          "2021-10-01T00:00:00",
          "2021-11-01T00:00:00",
          "2021-12-01T00:00:00",
          "2022-01-01T00:00:00",
          "2022-02-01T00:00:00",
          "2022-03-01T00:00:00",
          "2022-04-01T00:00:00",
          "2022-05-01T00:00:00",
          "2022-06-01T00:00:00",
          "2022-07-01T00:00:00",
          "2022-08-01T00:00:00",
          "2022-09-01T00:00:00",
          "2022-10-01T00:00:00",
          "2022-11-01T00:00:00",
          "2022-12-01T00:00:00",
          "2023-01-01T00:00:00",
          "2023-02-01T00:00:00",
          "2023-03-01T00:00:00",
          "2023-04-01T00:00:00",
          "2023-05-01T00:00:00",
          "2023-06-01T00:00:00",
          "2023-07-01T00:00:00",
          "2023-08-01T00:00:00",
          "2023-09-01T00:00:00",
          "2023-10-01T00:00:00",
          "2023-11-01T00:00:00",
          "2023-12-01T00:00:00",
          "2023-12-31T00:00:00",
          "2024-01-31T00:00:00",
          "2024-02-29T00:00:00",
          "2024-03-31T00:00:00"
         ],
         "y": [
          18950992.563937638,
          18505521.36666275,
          19808873.87336823,
          19564254.405259483,
          19242320.584153973,
          21601811.014829505,
          22088252.87605316,
          21518688.553891707,
          22699563.583957728,
          22038056.26484119,
          21794481.251890253,
          23946416.95740392,
          23963044.792988546,
          23609391.397686046,
          24710864.568340354,
          23967336.131235883,
          23820786.181095477,
          26025988.885337193,
          25945009.616740942,
          25625450.883607335,
          26763853.181315985,
          25853500.319572918,
          26025293.32927938,
          28140237.957187936,
          27815383.048308965,
          27906896.835927792,
          29066796.541040257,
          28244307.242429957,
          28664539.52271825,
          30960703.40900199,
          30712392.06274151,
          30420152.032051843,
          31159512.14474927,
          29819967.401285365,
          30165637.13542516,
          31879186.41242518,
          31018259.940875288,
          30995469.19284144,
          31608624.57625078,
          30211034.28487867,
          30654272.697134905,
          32355140.535533123,
          31453806.063944273,
          31468466.361701425,
          31990796.35732862,
          30570142.713468466,
          31101552.575958982,
          32334944.200280536,
          31043916.743470497,
          31073043.146171182,
          31189759.55983837,
          29492065.084354814,
          30865175.430833425,
          32645924.794727553,
          31978633.302861076,
          32786322.197214015,
          33377339.182531852,
          32415254.89712196,
          34109092.98276278,
          35587734.98223569,
          34881568.73091628,
          36279161.32453819,
          37013852.4737077,
          36439957.01300757,
          38534855.13518367,
          40332265.46426231,
          39992870.64916024,
          41417884.64014882,
          42050626.83724643,
          41601883.46910791,
          43981983.8803513,
          45438360.94176473,
          45144594.04662189,
          46729925.22342654,
          47145192.03233598,
          46753216.09696353,
          48767709.66046503,
          49787427.87735625,
          49144425.45946209,
          50367976.39416563,
          50279893.711068355,
          49712418.51334398,
          51936264.69065771,
          52623393.22662624,
          52082901.9077841,
          53395780.44858313,
          53152535.66622931,
          52658068.17010678,
          54866952.61283151,
          55476699.04867416,
          54986029.67483643,
          56306071.270239055,
          55895787.20558728,
          55658959.95017124,
          58000973.28808063,
          58296168.97838637,
          57938510.39577346,
          59272526.10603278,
          58767789.797229156,
          58628766.34342937
         ]
        },
        {
         "fill": "tonexty",
         "fillcolor": "rgba(0, 114, 178, 0.2)",
         "hoverinfo": "skip",
         "line": {
          "width": 0
         },
         "mode": "lines",
         "type": "scatter",
         "x": [
          "2016-01-01T00:00:00",
          "2016-02-01T00:00:00",
          "2016-03-01T00:00:00",
          "2016-04-01T00:00:00",
          "2016-05-01T00:00:00",
          "2016-06-01T00:00:00",
          "2016-07-01T00:00:00",
          "2016-08-01T00:00:00",
          "2016-09-01T00:00:00",
          "2016-10-01T00:00:00",
          "2016-11-01T00:00:00",
          "2016-12-01T00:00:00",
          "2017-01-01T00:00:00",
          "2017-02-01T00:00:00",
          "2017-03-01T00:00:00",
          "2017-04-01T00:00:00",
          "2017-05-01T00:00:00",
          "2017-06-01T00:00:00",
          "2017-07-01T00:00:00",
          "2017-08-01T00:00:00",
          "2017-09-01T00:00:00",
          "2017-10-01T00:00:00",
          "2017-11-01T00:00:00",
          "2017-12-01T00:00:00",
          "2018-01-01T00:00:00",
          "2018-02-01T00:00:00",
          "2018-03-01T00:00:00",
          "2018-04-01T00:00:00",
          "2018-05-01T00:00:00",
          "2018-06-01T00:00:00",
          "2018-07-01T00:00:00",
          "2018-08-01T00:00:00",
          "2018-09-01T00:00:00",
          "2018-10-01T00:00:00",
          "2018-11-01T00:00:00",
          "2018-12-01T00:00:00",
          "2019-01-01T00:00:00",
          "2019-02-01T00:00:00",
          "2019-03-01T00:00:00",
          "2019-04-01T00:00:00",
          "2019-05-01T00:00:00",
          "2019-06-01T00:00:00",
          "2019-07-01T00:00:00",
          "2019-08-01T00:00:00",
          "2019-09-01T00:00:00",
          "2019-10-01T00:00:00",
          "2019-11-01T00:00:00",
          "2019-12-01T00:00:00",
          "2020-01-01T00:00:00",
          "2020-02-01T00:00:00",
          "2020-03-01T00:00:00",
          "2020-04-01T00:00:00",
          "2020-05-01T00:00:00",
          "2020-06-01T00:00:00",
          "2020-07-01T00:00:00",
          "2020-08-01T00:00:00",
          "2020-09-01T00:00:00",
          "2020-10-01T00:00:00",
          "2020-11-01T00:00:00",
          "2020-12-01T00:00:00",
          "2021-01-01T00:00:00",
          "2021-02-01T00:00:00",
          "2021-03-01T00:00:00",
          "2021-04-01T00:00:00",
          "2021-05-01T00:00:00",
          "2021-06-01T00:00:00",
          "2021-07-01T00:00:00",
          "2021-08-01T00:00:00",
          "2021-09-01T00:00:00",
          "2021-10-01T00:00:00",
          "2021-11-01T00:00:00",
          "2021-12-01T00:00:00",
          "2022-01-01T00:00:00",
          "2022-02-01T00:00:00",
          "2022-03-01T00:00:00",
          "2022-04-01T00:00:00",
          "2022-05-01T00:00:00",
          "2022-06-01T00:00:00",
          "2022-07-01T00:00:00",
          "2022-08-01T00:00:00",
          "2022-09-01T00:00:00",
          "2022-10-01T00:00:00",
          "2022-11-01T00:00:00",
          "2022-12-01T00:00:00",
          "2023-01-01T00:00:00",
          "2023-02-01T00:00:00",
          "2023-03-01T00:00:00",
          "2023-04-01T00:00:00",
          "2023-05-01T00:00:00",
          "2023-06-01T00:00:00",
          "2023-07-01T00:00:00",
          "2023-08-01T00:00:00",
          "2023-09-01T00:00:00",
          "2023-10-01T00:00:00",
          "2023-11-01T00:00:00",
          "2023-12-01T00:00:00",
          "2023-12-31T00:00:00",
          "2024-01-31T00:00:00",
          "2024-02-29T00:00:00",
          "2024-03-31T00:00:00"
         ],
         "y": [
          22105824.24149759,
          21811242.1751803,
          22972925.188721206,
          22594655.9568209,
          22388430.378523383,
          24670303.171824906,
          25304424.490955714,
          24685351.896089025,
          25819532.99668724,
          25294485.75733143,
          25186593.213288885,
          27231705.020210493,
          27218251.488756914,
          26896825.511351477,
          27883066.519435965,
          27314034.414358992,
          26950230.624979842,
          29298513.901110344,
          29417615.38214767,
          28509300.26399729,
          30161786.30929955,
          29221681.312745895,
          29381716.315061245,
          31549378.243777804,
          30745731.823951103,
          31122074.955393184,
          32528871.307478506,
          31467412.23810329,
          31681123.026785422,
          34136244.030335926,
          34138064.521978915,
          33628987.27100033,
          34396760.590673335,
          33195457.859352835,
          33386570.34744798,
          35182859.93087551,
          34087072.777838506,
          34365082.25335528,
          34691897.13484652,
          33590947.74459064,
          33979919.24968035,
          35408221.78186927,
          34589132.37669685,
          34569476.10922639,
          35190129.12217765,
          33548746.981388975,
          34325963.41732244,
          35372772.36351839,
          34073093.99716549,
          34356950.07066599,
          34196983.82683097,
          32564045.20510002,
          33910080.90923293,
          35917133.54370271,
          34984414.861109406,
          35918670.989003554,
          36611812.82314103,
          35643451.81509514,
          37378018.39480626,
          38818618.04773142,
          38137723.34299598,
          39572128.288248025,
          40158354.3137491,
          39827220.79321194,
          41624499.03629537,
          43528873.237227574,
          43067731.669789955,
          44600519.63725005,
          45306149.25660793,
          44763835.03629259,
          47242501.170980275,
          48552984.33401939,
          48444473.60902779,
          50104822.659284316,
          50333179.7777205,
          49937155.77001684,
          51852705.49320374,
          52816685.13182316,
          52487282.135516964,
          53665865.649584934,
          53405865.9567178,
          52765995.38297768,
          55238044.28421521,
          55967207.95684814,
          55471047.74466022,
          56270727.95276417,
          56319384.71207317,
          55881947.1152456,
          58075346.44942526,
          58870045.79645482,
          58067647.29383179,
          59434665.87423771,
          59114960.86724752,
          58763618.29704739,
          61253032.00918048,
          61679881.30690936,
          61300645.67295398,
          62473027.33832841,
          62047912.0680387,
          61871020.844388716
         ]
        }
       ],
       "layout": {
        "height": 600,
        "showlegend": false,
        "template": {
         "data": {
          "bar": [
           {
            "error_x": {
             "color": "#2a3f5f"
            },
            "error_y": {
             "color": "#2a3f5f"
            },
            "marker": {
             "line": {
              "color": "#E5ECF6",
              "width": 0.5
             },
             "pattern": {
              "fillmode": "overlay",
              "size": 10,
              "solidity": 0.2
             }
            },
            "type": "bar"
           }
          ],
          "barpolar": [
           {
            "marker": {
             "line": {
              "color": "#E5ECF6",
              "width": 0.5
             },
             "pattern": {
              "fillmode": "overlay",
              "size": 10,
              "solidity": 0.2
             }
            },
            "type": "barpolar"
           }
          ],
          "carpet": [
           {
            "aaxis": {
             "endlinecolor": "#2a3f5f",
             "gridcolor": "white",
             "linecolor": "white",
             "minorgridcolor": "white",
             "startlinecolor": "#2a3f5f"
            },
            "baxis": {
             "endlinecolor": "#2a3f5f",
             "gridcolor": "white",
             "linecolor": "white",
             "minorgridcolor": "white",
             "startlinecolor": "#2a3f5f"
            },
            "type": "carpet"
           }
          ],
          "choropleth": [
           {
            "colorbar": {
             "outlinewidth": 0,
             "ticks": ""
            },
            "type": "choropleth"
           }
          ],
          "contour": [
           {
            "colorbar": {
             "outlinewidth": 0,
             "ticks": ""
            },
            "colorscale": [
             [
              0,
              "#0d0887"
             ],
             [
              0.1111111111111111,
              "#46039f"
             ],
             [
              0.2222222222222222,
              "#7201a8"
             ],
             [
              0.3333333333333333,
              "#9c179e"
             ],
             [
              0.4444444444444444,
              "#bd3786"
             ],
             [
              0.5555555555555556,
              "#d8576b"
             ],
             [
              0.6666666666666666,
              "#ed7953"
             ],
             [
              0.7777777777777778,
              "#fb9f3a"
             ],
             [
              0.8888888888888888,
              "#fdca26"
             ],
             [
              1,
              "#f0f921"
             ]
            ],
            "type": "contour"
           }
          ],
          "contourcarpet": [
           {
            "colorbar": {
             "outlinewidth": 0,
             "ticks": ""
            },
            "type": "contourcarpet"
           }
          ],
          "heatmap": [
           {
            "colorbar": {
             "outlinewidth": 0,
             "ticks": ""
            },
            "colorscale": [
             [
              0,
              "#0d0887"
             ],
             [
              0.1111111111111111,
              "#46039f"
             ],
             [
              0.2222222222222222,
              "#7201a8"
             ],
             [
              0.3333333333333333,
              "#9c179e"
             ],
             [
              0.4444444444444444,
              "#bd3786"
             ],
             [
              0.5555555555555556,
              "#d8576b"
             ],
             [
              0.6666666666666666,
              "#ed7953"
             ],
             [
              0.7777777777777778,
              "#fb9f3a"
             ],
             [
              0.8888888888888888,
              "#fdca26"
             ],
             [
              1,
              "#f0f921"
             ]
            ],
            "type": "heatmap"
           }
          ],
          "heatmapgl": [
           {
            "colorbar": {
             "outlinewidth": 0,
             "ticks": ""
            },
            "colorscale": [
             [
              0,
              "#0d0887"
             ],
             [
              0.1111111111111111,
              "#46039f"
             ],
             [
              0.2222222222222222,
              "#7201a8"
             ],
             [
              0.3333333333333333,
              "#9c179e"
             ],
             [
              0.4444444444444444,
              "#bd3786"
             ],
             [
              0.5555555555555556,
              "#d8576b"
             ],
             [
              0.6666666666666666,
              "#ed7953"
             ],
             [
              0.7777777777777778,
              "#fb9f3a"
             ],
             [
              0.8888888888888888,
              "#fdca26"
             ],
             [
              1,
              "#f0f921"
             ]
            ],
            "type": "heatmapgl"
           }
          ],
          "histogram": [
           {
            "marker": {
             "pattern": {
              "fillmode": "overlay",
              "size": 10,
              "solidity": 0.2
             }
            },
            "type": "histogram"
           }
          ],
          "histogram2d": [
           {
            "colorbar": {
             "outlinewidth": 0,
             "ticks": ""
            },
            "colorscale": [
             [
              0,
              "#0d0887"
             ],
             [
              0.1111111111111111,
              "#46039f"
             ],
             [
              0.2222222222222222,
              "#7201a8"
             ],
             [
              0.3333333333333333,
              "#9c179e"
             ],
             [
              0.4444444444444444,
              "#bd3786"
             ],
             [
              0.5555555555555556,
              "#d8576b"
             ],
             [
              0.6666666666666666,
              "#ed7953"
             ],
             [
              0.7777777777777778,
              "#fb9f3a"
             ],
             [
              0.8888888888888888,
              "#fdca26"
             ],
             [
              1,
              "#f0f921"
             ]
            ],
            "type": "histogram2d"
           }
          ],
          "histogram2dcontour": [
           {
            "colorbar": {
             "outlinewidth": 0,
             "ticks": ""
            },
            "colorscale": [
             [
              0,
              "#0d0887"
             ],
             [
              0.1111111111111111,
              "#46039f"
             ],
             [
              0.2222222222222222,
              "#7201a8"
             ],
             [
              0.3333333333333333,
              "#9c179e"
             ],
             [
              0.4444444444444444,
              "#bd3786"
             ],
             [
              0.5555555555555556,
              "#d8576b"
             ],
             [
              0.6666666666666666,
              "#ed7953"
             ],
             [
              0.7777777777777778,
              "#fb9f3a"
             ],
             [
              0.8888888888888888,
              "#fdca26"
             ],
             [
              1,
              "#f0f921"
             ]
            ],
            "type": "histogram2dcontour"
           }
          ],
          "mesh3d": [
           {
            "colorbar": {
             "outlinewidth": 0,
             "ticks": ""
            },
            "type": "mesh3d"
           }
          ],
          "parcoords": [
           {
            "line": {
             "colorbar": {
              "outlinewidth": 0,
              "ticks": ""
             }
            },
            "type": "parcoords"
           }
          ],
          "pie": [
           {
            "automargin": true,
            "type": "pie"
           }
          ],
          "scatter": [
           {
            "fillpattern": {
             "fillmode": "overlay",
             "size": 10,
             "solidity": 0.2
            },
            "type": "scatter"
           }
          ],
          "scatter3d": [
           {
            "line": {
             "colorbar": {
              "outlinewidth": 0,
              "ticks": ""
             }
            },
            "marker": {
             "colorbar": {
              "outlinewidth": 0,
              "ticks": ""
             }
            },
            "type": "scatter3d"
           }
          ],
          "scattercarpet": [
           {
            "marker": {
             "colorbar": {
              "outlinewidth": 0,
              "ticks": ""
             }
            },
            "type": "scattercarpet"
           }
          ],
          "scattergeo": [
           {
            "marker": {
             "colorbar": {
              "outlinewidth": 0,
              "ticks": ""
             }
            },
            "type": "scattergeo"
           }
          ],
          "scattergl": [
           {
            "marker": {
             "colorbar": {
              "outlinewidth": 0,
              "ticks": ""
             }
            },
            "type": "scattergl"
           }
          ],
          "scattermapbox": [
           {
            "marker": {
             "colorbar": {
              "outlinewidth": 0,
              "ticks": ""
             }
            },
            "type": "scattermapbox"
           }
          ],
          "scatterpolar": [
           {
            "marker": {
             "colorbar": {
              "outlinewidth": 0,
              "ticks": ""
             }
            },
            "type": "scatterpolar"
           }
          ],
          "scatterpolargl": [
           {
            "marker": {
             "colorbar": {
              "outlinewidth": 0,
              "ticks": ""
             }
            },
            "type": "scatterpolargl"
           }
          ],
          "scatterternary": [
           {
            "marker": {
             "colorbar": {
              "outlinewidth": 0,
              "ticks": ""
             }
            },
            "type": "scatterternary"
           }
          ],
          "surface": [
           {
            "colorbar": {
             "outlinewidth": 0,
             "ticks": ""
            },
            "colorscale": [
             [
              0,
              "#0d0887"
             ],
             [
              0.1111111111111111,
              "#46039f"
             ],
             [
              0.2222222222222222,
              "#7201a8"
             ],
             [
              0.3333333333333333,
              "#9c179e"
             ],
             [
              0.4444444444444444,
              "#bd3786"
             ],
             [
              0.5555555555555556,
              "#d8576b"
             ],
             [
              0.6666666666666666,
              "#ed7953"
             ],
             [
              0.7777777777777778,
              "#fb9f3a"
             ],
             [
              0.8888888888888888,
              "#fdca26"
             ],
             [
              1,
              "#f0f921"
             ]
            ],
            "type": "surface"
           }
          ],
          "table": [
           {
            "cells": {
             "fill": {
              "color": "#EBF0F8"
             },
             "line": {
              "color": "white"
             }
            },
            "header": {
             "fill": {
              "color": "#C8D4E3"
             },
             "line": {
              "color": "white"
             }
            },
            "type": "table"
           }
          ]
         },
         "layout": {
          "annotationdefaults": {
           "arrowcolor": "#2a3f5f",
           "arrowhead": 0,
           "arrowwidth": 1
          },
          "autotypenumbers": "strict",
          "coloraxis": {
           "colorbar": {
            "outlinewidth": 0,
            "ticks": ""
           }
          },
          "colorscale": {
           "diverging": [
            [
             0,
             "#8e0152"
            ],
            [
             0.1,
             "#c51b7d"
            ],
            [
             0.2,
             "#de77ae"
            ],
            [
             0.3,
             "#f1b6da"
            ],
            [
             0.4,
             "#fde0ef"
            ],
            [
             0.5,
             "#f7f7f7"
            ],
            [
             0.6,
             "#e6f5d0"
            ],
            [
             0.7,
             "#b8e186"
            ],
            [
             0.8,
             "#7fbc41"
            ],
            [
             0.9,
             "#4d9221"
            ],
            [
             1,
             "#276419"
            ]
           ],
           "sequential": [
            [
             0,
             "#0d0887"
            ],
            [
             0.1111111111111111,
             "#46039f"
            ],
            [
             0.2222222222222222,
             "#7201a8"
            ],
            [
             0.3333333333333333,
             "#9c179e"
            ],
            [
             0.4444444444444444,
             "#bd3786"
            ],
            [
             0.5555555555555556,
             "#d8576b"
            ],
            [
             0.6666666666666666,
             "#ed7953"
            ],
            [
             0.7777777777777778,
             "#fb9f3a"
            ],
            [
             0.8888888888888888,
             "#fdca26"
            ],
            [
             1,
             "#f0f921"
            ]
           ],
           "sequentialminus": [
            [
             0,
             "#0d0887"
            ],
            [
             0.1111111111111111,
             "#46039f"
            ],
            [
             0.2222222222222222,
             "#7201a8"
            ],
            [
             0.3333333333333333,
             "#9c179e"
            ],
            [
             0.4444444444444444,
             "#bd3786"
            ],
            [
             0.5555555555555556,
             "#d8576b"
            ],
            [
             0.6666666666666666,
             "#ed7953"
            ],
            [
             0.7777777777777778,
             "#fb9f3a"
            ],
            [
             0.8888888888888888,
             "#fdca26"
            ],
            [
             1,
             "#f0f921"
            ]
           ]
          },
          "colorway": [
           "#636efa",
           "#EF553B",
           "#00cc96",
           "#ab63fa",
           "#FFA15A",
           "#19d3f3",
           "#FF6692",
           "#B6E880",
           "#FF97FF",
           "#FECB52"
          ],
          "font": {
           "color": "#2a3f5f"
          },
          "geo": {
           "bgcolor": "white",
           "lakecolor": "white",
           "landcolor": "#E5ECF6",
           "showlakes": true,
           "showland": true,
           "subunitcolor": "white"
          },
          "hoverlabel": {
           "align": "left"
          },
          "hovermode": "closest",
          "mapbox": {
           "style": "light"
          },
          "paper_bgcolor": "white",
          "plot_bgcolor": "#E5ECF6",
          "polar": {
           "angularaxis": {
            "gridcolor": "white",
            "linecolor": "white",
            "ticks": ""
           },
           "bgcolor": "#E5ECF6",
           "radialaxis": {
            "gridcolor": "white",
            "linecolor": "white",
            "ticks": ""
           }
          },
          "scene": {
           "xaxis": {
            "backgroundcolor": "#E5ECF6",
            "gridcolor": "white",
            "gridwidth": 2,
            "linecolor": "white",
            "showbackground": true,
            "ticks": "",
            "zerolinecolor": "white"
           },
           "yaxis": {
            "backgroundcolor": "#E5ECF6",
            "gridcolor": "white",
            "gridwidth": 2,
            "linecolor": "white",
            "showbackground": true,
            "ticks": "",
            "zerolinecolor": "white"
           },
           "zaxis": {
            "backgroundcolor": "#E5ECF6",
            "gridcolor": "white",
            "gridwidth": 2,
            "linecolor": "white",
            "showbackground": true,
            "ticks": "",
            "zerolinecolor": "white"
           }
          },
          "shapedefaults": {
           "line": {
            "color": "#2a3f5f"
           }
          },
          "ternary": {
           "aaxis": {
            "gridcolor": "white",
            "linecolor": "white",
            "ticks": ""
           },
           "baxis": {
            "gridcolor": "white",
            "linecolor": "white",
            "ticks": ""
           },
           "bgcolor": "#E5ECF6",
           "caxis": {
            "gridcolor": "white",
            "linecolor": "white",
            "ticks": ""
           }
          },
          "title": {
           "x": 0.05
          },
          "xaxis": {
           "automargin": true,
           "gridcolor": "white",
           "linecolor": "white",
           "ticks": "",
           "title": {
            "standoff": 15
           },
           "zerolinecolor": "white",
           "zerolinewidth": 2
          },
          "yaxis": {
           "automargin": true,
           "gridcolor": "white",
           "linecolor": "white",
           "ticks": "",
           "title": {
            "standoff": 15
           },
           "zerolinecolor": "white",
           "zerolinewidth": 2
          }
         }
        },
        "width": 900,
        "xaxis": {
         "rangeselector": {
          "buttons": [
           {
            "count": 7,
            "label": "1w",
            "step": "day",
            "stepmode": "backward"
           },
           {
            "count": 1,
            "label": "1m",
            "step": "month",
            "stepmode": "backward"
           },
           {
            "count": 6,
            "label": "6m",
            "step": "month",
            "stepmode": "backward"
           },
           {
            "count": 1,
            "label": "1y",
            "step": "year",
            "stepmode": "backward"
           },
           {
            "step": "all"
           }
          ]
         },
         "rangeslider": {
          "visible": true
         },
         "title": {
          "text": "ds"
         },
         "type": "date"
        },
        "yaxis": {
         "title": {
          "text": "y"
         }
        }
       }
      }
     },
     "metadata": {},
     "output_type": "display_data"
    },
    {
     "data": {
      "application/vnd.plotly.v1+json": {
       "config": {
        "plotlyServerURL": "https://plot.ly"
       },
       "data": [
        {
         "line": {
          "color": "#0072B2",
          "width": 2
         },
         "mode": "lines",
         "name": "trend",
         "type": "scatter",
         "x": [
          "2016-01-01T00:00:00",
          "2016-02-01T00:00:00",
          "2016-03-01T00:00:00",
          "2016-04-01T00:00:00",
          "2016-05-01T00:00:00",
          "2016-06-01T00:00:00",
          "2016-07-01T00:00:00",
          "2016-08-01T00:00:00",
          "2016-09-01T00:00:00",
          "2016-10-01T00:00:00",
          "2016-11-01T00:00:00",
          "2016-12-01T00:00:00",
          "2017-01-01T00:00:00",
          "2017-02-01T00:00:00",
          "2017-03-01T00:00:00",
          "2017-04-01T00:00:00",
          "2017-05-01T00:00:00",
          "2017-06-01T00:00:00",
          "2017-07-01T00:00:00",
          "2017-08-01T00:00:00",
          "2017-09-01T00:00:00",
          "2017-10-01T00:00:00",
          "2017-11-01T00:00:00",
          "2017-12-01T00:00:00",
          "2018-01-01T00:00:00",
          "2018-02-01T00:00:00",
          "2018-03-01T00:00:00",
          "2018-04-01T00:00:00",
          "2018-05-01T00:00:00",
          "2018-06-01T00:00:00",
          "2018-07-01T00:00:00",
          "2018-08-01T00:00:00",
          "2018-09-01T00:00:00",
          "2018-10-01T00:00:00",
          "2018-11-01T00:00:00",
          "2018-12-01T00:00:00",
          "2019-01-01T00:00:00",
          "2019-02-01T00:00:00",
          "2019-03-01T00:00:00",
          "2019-04-01T00:00:00",
          "2019-05-01T00:00:00",
          "2019-06-01T00:00:00",
          "2019-07-01T00:00:00",
          "2019-08-01T00:00:00",
          "2019-09-01T00:00:00",
          "2019-10-01T00:00:00",
          "2019-11-01T00:00:00",
          "2019-12-01T00:00:00",
          "2020-01-01T00:00:00",
          "2020-02-01T00:00:00",
          "2020-03-01T00:00:00",
          "2020-04-01T00:00:00",
          "2020-05-01T00:00:00",
          "2020-06-01T00:00:00",
          "2020-07-01T00:00:00",
          "2020-08-01T00:00:00",
          "2020-09-01T00:00:00",
          "2020-10-01T00:00:00",
          "2020-11-01T00:00:00",
          "2020-12-01T00:00:00",
          "2021-01-01T00:00:00",
          "2021-02-01T00:00:00",
          "2021-03-01T00:00:00",
          "2021-04-01T00:00:00",
          "2021-05-01T00:00:00",
          "2021-06-01T00:00:00",
          "2021-07-01T00:00:00",
          "2021-08-01T00:00:00",
          "2021-09-01T00:00:00",
          "2021-10-01T00:00:00",
          "2021-11-01T00:00:00",
          "2021-12-01T00:00:00",
          "2022-01-01T00:00:00",
          "2022-02-01T00:00:00",
          "2022-03-01T00:00:00",
          "2022-04-01T00:00:00",
          "2022-05-01T00:00:00",
          "2022-06-01T00:00:00",
          "2022-07-01T00:00:00",
          "2022-08-01T00:00:00",
          "2022-09-01T00:00:00",
          "2022-10-01T00:00:00",
          "2022-11-01T00:00:00",
          "2022-12-01T00:00:00",
          "2023-01-01T00:00:00",
          "2023-02-01T00:00:00",
          "2023-03-01T00:00:00",
          "2023-04-01T00:00:00",
          "2023-05-01T00:00:00",
          "2023-06-01T00:00:00",
          "2023-07-01T00:00:00",
          "2023-08-01T00:00:00",
          "2023-09-01T00:00:00",
          "2023-10-01T00:00:00",
          "2023-11-01T00:00:00",
          "2023-12-01T00:00:00",
          "2023-12-31T00:00:00",
          "2024-01-31T00:00:00",
          "2024-02-29T00:00:00",
          "2024-03-31T00:00:00"
         ],
         "xaxis": "x",
         "y": [
          18267639.565016,
          18813360.75397013,
          19323874.124282062,
          19869595.313236192,
          20397712.584828466,
          20943433.765473817,
          21471551.0370661,
          21815231.414501768,
          22158911.79193744,
          22491505.705584865,
          22835096.040396705,
          23167602.816021074,
          23511193.15083292,
          23854783.50089976,
          24165123.17192787,
          24508713.521994706,
          24841220.32519739,
          25184810.68850683,
          25517317.49170951,
          25860907.86021405,
          26204498.228718583,
          26537005.036948778,
          26880595.41473787,
          27213102.231953114,
          27556692.6097422,
          28056934.237131324,
          28508765.38445054,
          29009007.01183967,
          29493111.818652414,
          29993353.452358913,
          30477458.259171654,
          30555973.48592643,
          30634488.712681204,
          30710471.190185837,
          30788742.939364083,
          30864489.79340755,
          30942761.542585798,
          31021033.28967028,
          31091730.351553045,
          31170002.09863753,
          31245748.94837775,
          31324020.693109315,
          31399767.54284954,
          31477058.382051684,
          31554349.221253827,
          31629146.807578485,
          31460037.40846091,
          31296383.15125035,
          31127273.75213278,
          30958178.6429833,
          30799992.895714436,
          30630897.786564954,
          31119422.719874583,
          31624231.817627855,
          32112756.75093748,
          32617654.030256648,
          33122551.309575815,
          33611161.57988469,
          34116690.17263093,
          34605911.391417615,
          35111439.98416386,
          35988708.56922671,
          36781080.19444479,
          37658348.77950765,
          38507334.775684565,
          39384620.30506739,
          40233606.30124431,
          41110891.82543974,
          41988177.349635184,
          42837163.34079205,
          43714280.812619045,
          44563104.17245163,
          45440221.64427862,
          46317090.3811602,
          47109100.85318226,
          47985969.59006384,
          48466901.61034249,
          48963864.69796376,
          49444796.7182424,
          49941759.80586368,
          50438722.89348494,
          50919654.91376359,
          51416618.001384854,
          51897550.0216635,
          52394513.10928477,
          52891476.19690604,
          53340346.08249945,
          53837309.170120716,
          54318241.19039936,
          54815204.27802063,
          55296136.29829928,
          55793099.38592055,
          56290062.47354182,
          56770994.49382046,
          57267957.58144174,
          57748889.60172038,
          58229821.621999025,
          58726784.70962029,
          59191685.66255631,
          59688648.7501776
         ],
         "yaxis": "y"
        },
        {
         "line": {
          "color": "rgba(0, 114, 178, 0.2)",
          "width": 0
         },
         "mode": "lines",
         "name": "trend_upper",
         "type": "scatter",
         "x": [
          "2016-01-01T00:00:00",
          "2016-02-01T00:00:00",
          "2016-03-01T00:00:00",
          "2016-04-01T00:00:00",
          "2016-05-01T00:00:00",
          "2016-06-01T00:00:00",
          "2016-07-01T00:00:00",
          "2016-08-01T00:00:00",
          "2016-09-01T00:00:00",
          "2016-10-01T00:00:00",
          "2016-11-01T00:00:00",
          "2016-12-01T00:00:00",
          "2017-01-01T00:00:00",
          "2017-02-01T00:00:00",
          "2017-03-01T00:00:00",
          "2017-04-01T00:00:00",
          "2017-05-01T00:00:00",
          "2017-06-01T00:00:00",
          "2017-07-01T00:00:00",
          "2017-08-01T00:00:00",
          "2017-09-01T00:00:00",
          "2017-10-01T00:00:00",
          "2017-11-01T00:00:00",
          "2017-12-01T00:00:00",
          "2018-01-01T00:00:00",
          "2018-02-01T00:00:00",
          "2018-03-01T00:00:00",
          "2018-04-01T00:00:00",
          "2018-05-01T00:00:00",
          "2018-06-01T00:00:00",
          "2018-07-01T00:00:00",
          "2018-08-01T00:00:00",
          "2018-09-01T00:00:00",
          "2018-10-01T00:00:00",
          "2018-11-01T00:00:00",
          "2018-12-01T00:00:00",
          "2019-01-01T00:00:00",
          "2019-02-01T00:00:00",
          "2019-03-01T00:00:00",
          "2019-04-01T00:00:00",
          "2019-05-01T00:00:00",
          "2019-06-01T00:00:00",
          "2019-07-01T00:00:00",
          "2019-08-01T00:00:00",
          "2019-09-01T00:00:00",
          "2019-10-01T00:00:00",
          "2019-11-01T00:00:00",
          "2019-12-01T00:00:00",
          "2020-01-01T00:00:00",
          "2020-02-01T00:00:00",
          "2020-03-01T00:00:00",
          "2020-04-01T00:00:00",
          "2020-05-01T00:00:00",
          "2020-06-01T00:00:00",
          "2020-07-01T00:00:00",
          "2020-08-01T00:00:00",
          "2020-09-01T00:00:00",
          "2020-10-01T00:00:00",
          "2020-11-01T00:00:00",
          "2020-12-01T00:00:00",
          "2021-01-01T00:00:00",
          "2021-02-01T00:00:00",
          "2021-03-01T00:00:00",
          "2021-04-01T00:00:00",
          "2021-05-01T00:00:00",
          "2021-06-01T00:00:00",
          "2021-07-01T00:00:00",
          "2021-08-01T00:00:00",
          "2021-09-01T00:00:00",
          "2021-10-01T00:00:00",
          "2021-11-01T00:00:00",
          "2021-12-01T00:00:00",
          "2022-01-01T00:00:00",
          "2022-02-01T00:00:00",
          "2022-03-01T00:00:00",
          "2022-04-01T00:00:00",
          "2022-05-01T00:00:00",
          "2022-06-01T00:00:00",
          "2022-07-01T00:00:00",
          "2022-08-01T00:00:00",
          "2022-09-01T00:00:00",
          "2022-10-01T00:00:00",
          "2022-11-01T00:00:00",
          "2022-12-01T00:00:00",
          "2023-01-01T00:00:00",
          "2023-02-01T00:00:00",
          "2023-03-01T00:00:00",
          "2023-04-01T00:00:00",
          "2023-05-01T00:00:00",
          "2023-06-01T00:00:00",
          "2023-07-01T00:00:00",
          "2023-08-01T00:00:00",
          "2023-09-01T00:00:00",
          "2023-10-01T00:00:00",
          "2023-11-01T00:00:00",
          "2023-12-01T00:00:00",
          "2023-12-31T00:00:00",
          "2024-01-31T00:00:00",
          "2024-02-29T00:00:00",
          "2024-03-31T00:00:00"
         ],
         "xaxis": "x",
         "y": [
          18267639.565016,
          18813360.75397013,
          19323874.124282062,
          19869595.313236192,
          20397712.584828466,
          20943433.765473817,
          21471551.0370661,
          21815231.414501768,
          22158911.79193744,
          22491505.705584865,
          22835096.040396705,
          23167602.816021074,
          23511193.15083292,
          23854783.50089976,
          24165123.17192787,
          24508713.521994706,
          24841220.32519739,
          25184810.68850683,
          25517317.49170951,
          25860907.86021405,
          26204498.228718583,
          26537005.036948778,
          26880595.41473787,
          27213102.231953114,
          27556692.6097422,
          28056934.237131324,
          28508765.38445054,
          29009007.01183967,
          29493111.818652414,
          29993353.452358913,
          30477458.259171654,
          30555973.48592643,
          30634488.712681204,
          30710471.190185837,
          30788742.939364083,
          30864489.79340755,
          30942761.542585798,
          31021033.28967028,
          31091730.351553045,
          31170002.09863753,
          31245748.94837775,
          31324020.693109315,
          31399767.54284954,
          31477058.382051684,
          31554349.221253827,
          31629146.807578485,
          31460037.40846091,
          31296383.15125035,
          31127273.75213278,
          30958178.6429833,
          30799992.895714436,
          30630897.786564954,
          31119422.719874583,
          31624231.817627855,
          32112756.75093748,
          32617654.030256648,
          33122551.309575815,
          33611161.57988469,
          34116690.17263093,
          34605911.391417615,
          35111439.98416386,
          35988708.56922671,
          36781080.19444479,
          37658348.77950765,
          38507334.775684565,
          39384620.30506739,
          40233606.30124431,
          41110891.82543974,
          41988177.349635184,
          42837163.34079205,
          43714280.812619045,
          44563104.17245163,
          45440221.64427862,
          46317090.3811602,
          47109100.85318226,
          47985969.59006384,
          48466901.61034249,
          48963864.69796376,
          49444796.7182424,
          49941759.80586368,
          50438722.89348494,
          50919654.91376359,
          51416618.001384854,
          51897550.0216635,
          52394513.10928477,
          52891476.19690604,
          53340346.08249945,
          53837309.170120716,
          54318241.19039936,
          54815204.27802063,
          55296136.29829928,
          55793099.38592055,
          56290062.47354182,
          56770994.49382046,
          57267957.58144174,
          57748889.60172038,
          58249985.64031297,
          58812250.62691865,
          59387604.98332788,
          60035045.13126351
         ],
         "yaxis": "y"
        },
        {
         "fill": "tonexty",
         "fillcolor": "rgba(0, 114, 178, 0.2)",
         "line": {
          "color": "rgba(0, 114, 178, 0.2)",
          "width": 0
         },
         "mode": "lines",
         "name": "trend_lower",
         "type": "scatter",
         "x": [
          "2016-01-01T00:00:00",
          "2016-02-01T00:00:00",
          "2016-03-01T00:00:00",
          "2016-04-01T00:00:00",
          "2016-05-01T00:00:00",
          "2016-06-01T00:00:00",
          "2016-07-01T00:00:00",
          "2016-08-01T00:00:00",
          "2016-09-01T00:00:00",
          "2016-10-01T00:00:00",
          "2016-11-01T00:00:00",
          "2016-12-01T00:00:00",
          "2017-01-01T00:00:00",
          "2017-02-01T00:00:00",
          "2017-03-01T00:00:00",
          "2017-04-01T00:00:00",
          "2017-05-01T00:00:00",
          "2017-06-01T00:00:00",
          "2017-07-01T00:00:00",
          "2017-08-01T00:00:00",
          "2017-09-01T00:00:00",
          "2017-10-01T00:00:00",
          "2017-11-01T00:00:00",
          "2017-12-01T00:00:00",
          "2018-01-01T00:00:00",
          "2018-02-01T00:00:00",
          "2018-03-01T00:00:00",
          "2018-04-01T00:00:00",
          "2018-05-01T00:00:00",
          "2018-06-01T00:00:00",
          "2018-07-01T00:00:00",
          "2018-08-01T00:00:00",
          "2018-09-01T00:00:00",
          "2018-10-01T00:00:00",
          "2018-11-01T00:00:00",
          "2018-12-01T00:00:00",
          "2019-01-01T00:00:00",
          "2019-02-01T00:00:00",
          "2019-03-01T00:00:00",
          "2019-04-01T00:00:00",
          "2019-05-01T00:00:00",
          "2019-06-01T00:00:00",
          "2019-07-01T00:00:00",
          "2019-08-01T00:00:00",
          "2019-09-01T00:00:00",
          "2019-10-01T00:00:00",
          "2019-11-01T00:00:00",
          "2019-12-01T00:00:00",
          "2020-01-01T00:00:00",
          "2020-02-01T00:00:00",
          "2020-03-01T00:00:00",
          "2020-04-01T00:00:00",
          "2020-05-01T00:00:00",
          "2020-06-01T00:00:00",
          "2020-07-01T00:00:00",
          "2020-08-01T00:00:00",
          "2020-09-01T00:00:00",
          "2020-10-01T00:00:00",
          "2020-11-01T00:00:00",
          "2020-12-01T00:00:00",
          "2021-01-01T00:00:00",
          "2021-02-01T00:00:00",
          "2021-03-01T00:00:00",
          "2021-04-01T00:00:00",
          "2021-05-01T00:00:00",
          "2021-06-01T00:00:00",
          "2021-07-01T00:00:00",
          "2021-08-01T00:00:00",
          "2021-09-01T00:00:00",
          "2021-10-01T00:00:00",
          "2021-11-01T00:00:00",
          "2021-12-01T00:00:00",
          "2022-01-01T00:00:00",
          "2022-02-01T00:00:00",
          "2022-03-01T00:00:00",
          "2022-04-01T00:00:00",
          "2022-05-01T00:00:00",
          "2022-06-01T00:00:00",
          "2022-07-01T00:00:00",
          "2022-08-01T00:00:00",
          "2022-09-01T00:00:00",
          "2022-10-01T00:00:00",
          "2022-11-01T00:00:00",
          "2022-12-01T00:00:00",
          "2023-01-01T00:00:00",
          "2023-02-01T00:00:00",
          "2023-03-01T00:00:00",
          "2023-04-01T00:00:00",
          "2023-05-01T00:00:00",
          "2023-06-01T00:00:00",
          "2023-07-01T00:00:00",
          "2023-08-01T00:00:00",
          "2023-09-01T00:00:00",
          "2023-10-01T00:00:00",
          "2023-11-01T00:00:00",
          "2023-12-01T00:00:00",
          "2023-12-31T00:00:00",
          "2024-01-31T00:00:00",
          "2024-02-29T00:00:00",
          "2024-03-31T00:00:00"
         ],
         "xaxis": "x",
         "y": [
          18267639.565016,
          18813360.75397013,
          19323874.124282062,
          19869595.313236192,
          20397712.584828466,
          20943433.765473817,
          21471551.0370661,
          21815231.414501768,
          22158911.79193744,
          22491505.705584865,
          22835096.040396705,
          23167602.816021074,
          23511193.15083292,
          23854783.50089976,
          24165123.17192787,
          24508713.521994706,
          24841220.32519739,
          25184810.68850683,
          25517317.49170951,
          25860907.86021405,
          26204498.228718583,
          26537005.036948778,
          26880595.41473787,
          27213102.231953114,
          27556692.6097422,
          28056934.237131324,
          28508765.38445054,
          29009007.01183967,
          29493111.818652414,
          29993353.452358913,
          30477458.259171654,
          30555973.48592643,
          30634488.712681204,
          30710471.190185837,
          30788742.939364083,
          30864489.79340755,
          30942761.542585798,
          31021033.28967028,
          31091730.351553045,
          31170002.09863753,
          31245748.94837775,
          31324020.693109315,
          31399767.54284954,
          31477058.382051684,
          31554349.221253827,
          31629146.807578485,
          31460037.40846091,
          31296383.15125035,
          31127273.75213278,
          30958178.6429833,
          30799992.895714436,
          30630897.786564954,
          31119422.719874583,
          31624231.817627855,
          32112756.75093748,
          32617654.030256648,
          33122551.309575815,
          33611161.57988469,
          34116690.17263093,
          34605911.391417615,
          35111439.98416386,
          35988708.56922671,
          36781080.19444479,
          37658348.77950765,
          38507334.775684565,
          39384620.30506739,
          40233606.30124431,
          41110891.82543974,
          41988177.349635184,
          42837163.34079205,
          43714280.812619045,
          44563104.17245163,
          45440221.64427862,
          46317090.3811602,
          47109100.85318226,
          47985969.59006384,
          48466901.61034249,
          48963864.69796376,
          49444796.7182424,
          49941759.80586368,
          50438722.89348494,
          50919654.91376359,
          51416618.001384854,
          51897550.0216635,
          52394513.10928477,
          52891476.19690604,
          53340346.08249945,
          53837309.170120716,
          54318241.19039936,
          54815204.27802063,
          55296136.29829928,
          55793099.38592055,
          56290062.47354182,
          56770994.49382046,
          57267957.58144174,
          57748889.60172038,
          58212750.35321652,
          58642136.228546575,
          59000599.08194341,
          59376620.78513817
         ],
         "yaxis": "y"
        },
        {
         "line": {
          "color": "#0072B2",
          "width": 2
         },
         "mode": "lines",
         "name": "monthly",
         "type": "scatter",
         "x": [
          "2017-01-01T00:00:00",
          "2017-01-02T00:04:00",
          "2017-01-03T00:08:00",
          "2017-01-04T00:12:00",
          "2017-01-05T00:16:00",
          "2017-01-06T00:20:00",
          "2017-01-07T00:24:00",
          "2017-01-08T00:28:00",
          "2017-01-09T00:32:00",
          "2017-01-10T00:36:00",
          "2017-01-11T00:40:00",
          "2017-01-12T00:44:00",
          "2017-01-13T00:48:00",
          "2017-01-14T00:52:00",
          "2017-01-15T00:56:00",
          "2017-01-16T01:00:00",
          "2017-01-17T01:04:00",
          "2017-01-18T01:08:00",
          "2017-01-19T01:12:00",
          "2017-01-20T01:16:00",
          "2017-01-21T01:20:00",
          "2017-01-22T01:24:00",
          "2017-01-23T01:28:00",
          "2017-01-24T01:32:00",
          "2017-01-25T01:36:00",
          "2017-01-26T01:40:00",
          "2017-01-27T01:44:00",
          "2017-01-28T01:48:00",
          "2017-01-29T01:52:00",
          "2017-01-30T01:56:00",
          "2017-01-31T02:00:00",
          "2017-02-01T02:04:00",
          "2017-02-02T02:08:00",
          "2017-02-03T02:12:00",
          "2017-02-04T02:16:00",
          "2017-02-05T02:20:00",
          "2017-02-06T02:24:00",
          "2017-02-07T02:28:00",
          "2017-02-08T02:32:00",
          "2017-02-09T02:36:00",
          "2017-02-10T02:40:00",
          "2017-02-11T02:44:00",
          "2017-02-12T02:48:00",
          "2017-02-13T02:52:00",
          "2017-02-14T02:56:00",
          "2017-02-15T03:00:00",
          "2017-02-16T03:04:00",
          "2017-02-17T03:08:00",
          "2017-02-18T03:12:00",
          "2017-02-19T03:16:00",
          "2017-02-20T03:20:00",
          "2017-02-21T03:24:00",
          "2017-02-22T03:28:00",
          "2017-02-23T03:32:00",
          "2017-02-24T03:36:00",
          "2017-02-25T03:40:00",
          "2017-02-26T03:44:00",
          "2017-02-27T03:48:00",
          "2017-02-28T03:52:00",
          "2017-03-01T03:56:00",
          "2017-03-02T04:00:00",
          "2017-03-03T04:04:00",
          "2017-03-04T04:08:00",
          "2017-03-05T04:12:00",
          "2017-03-06T04:16:00",
          "2017-03-07T04:20:00",
          "2017-03-08T04:24:00",
          "2017-03-09T04:28:00",
          "2017-03-10T04:32:00",
          "2017-03-11T04:36:00",
          "2017-03-12T04:40:00",
          "2017-03-13T04:44:00",
          "2017-03-14T04:48:00",
          "2017-03-15T04:52:00",
          "2017-03-16T04:56:00",
          "2017-03-17T05:00:00",
          "2017-03-18T05:04:00",
          "2017-03-19T05:08:00",
          "2017-03-20T05:12:00",
          "2017-03-21T05:16:00",
          "2017-03-22T05:20:00",
          "2017-03-23T05:24:00",
          "2017-03-24T05:28:00",
          "2017-03-25T05:32:00",
          "2017-03-26T05:36:00",
          "2017-03-27T05:40:00",
          "2017-03-28T05:44:00",
          "2017-03-29T05:48:00",
          "2017-03-30T05:52:00",
          "2017-03-31T05:56:00",
          "2017-04-01T06:00:00",
          "2017-04-02T06:04:00",
          "2017-04-03T06:08:00",
          "2017-04-04T06:12:00",
          "2017-04-05T06:16:00",
          "2017-04-06T06:20:00",
          "2017-04-07T06:24:00",
          "2017-04-08T06:28:00",
          "2017-04-09T06:32:00",
          "2017-04-10T06:36:00",
          "2017-04-11T06:40:00",
          "2017-04-12T06:44:00",
          "2017-04-13T06:48:00",
          "2017-04-14T06:52:00",
          "2017-04-15T06:56:00",
          "2017-04-16T07:00:00",
          "2017-04-17T07:04:00",
          "2017-04-18T07:08:00",
          "2017-04-19T07:12:00",
          "2017-04-20T07:16:00",
          "2017-04-21T07:20:00",
          "2017-04-22T07:24:00",
          "2017-04-23T07:28:00",
          "2017-04-24T07:32:00",
          "2017-04-25T07:36:00",
          "2017-04-26T07:40:00",
          "2017-04-27T07:44:00",
          "2017-04-28T07:48:00",
          "2017-04-29T07:52:00",
          "2017-04-30T07:56:00",
          "2017-05-01T08:00:00",
          "2017-05-02T08:04:00",
          "2017-05-03T08:08:00",
          "2017-05-04T08:12:00",
          "2017-05-05T08:16:00",
          "2017-05-06T08:20:00",
          "2017-05-07T08:24:00",
          "2017-05-08T08:28:00",
          "2017-05-09T08:32:00",
          "2017-05-10T08:36:00",
          "2017-05-11T08:40:00",
          "2017-05-12T08:44:00",
          "2017-05-13T08:48:00",
          "2017-05-14T08:52:00",
          "2017-05-15T08:56:00",
          "2017-05-16T09:00:00",
          "2017-05-17T09:04:00",
          "2017-05-18T09:08:00",
          "2017-05-19T09:12:00",
          "2017-05-20T09:16:00",
          "2017-05-21T09:20:00",
          "2017-05-22T09:24:00",
          "2017-05-23T09:28:00",
          "2017-05-24T09:32:00",
          "2017-05-25T09:36:00",
          "2017-05-26T09:40:00",
          "2017-05-27T09:44:00",
          "2017-05-28T09:48:00",
          "2017-05-29T09:52:00",
          "2017-05-30T09:56:00",
          "2017-05-31T10:00:00",
          "2017-06-01T10:04:00",
          "2017-06-02T10:08:00",
          "2017-06-03T10:12:00",
          "2017-06-04T10:16:00",
          "2017-06-05T10:20:00",
          "2017-06-06T10:24:00",
          "2017-06-07T10:28:00",
          "2017-06-08T10:32:00",
          "2017-06-09T10:36:00",
          "2017-06-10T10:40:00",
          "2017-06-11T10:44:00",
          "2017-06-12T10:48:00",
          "2017-06-13T10:52:00",
          "2017-06-14T10:56:00",
          "2017-06-15T11:00:00",
          "2017-06-16T11:04:00",
          "2017-06-17T11:08:00",
          "2017-06-18T11:12:00",
          "2017-06-19T11:16:00",
          "2017-06-20T11:20:00",
          "2017-06-21T11:24:00",
          "2017-06-22T11:28:00",
          "2017-06-23T11:32:00",
          "2017-06-24T11:36:00",
          "2017-06-25T11:40:00",
          "2017-06-26T11:44:00",
          "2017-06-27T11:48:00",
          "2017-06-28T11:52:00",
          "2017-06-29T11:56:00"
         ],
         "xaxis": "x2",
         "y": [
          451851.64215562306,
          403339.74885856354,
          354720.32281365263,
          306244.56381479185,
          258160.69118893822,
          210712.71981553774,
          164139.25942594887,
          118672.34304552214,
          74536.29030091534,
          31946.611133444636,
          -8891.044731648,
          -47781.8874457855,
          -84542.9309554662,
          -119003.87659104819,
          -151007.9320242117,
          -180412.56162585158,
          -207090.16457538918,
          -230928.67744744828,
          -251832.0983547531,
          -269720.9301269739,
          -284532.5403917937,
          -296221.4368398855,
          -304759.4563671887,
          -310135.86721412546,
          -312357.38364565483,
          -311448.0931473499,
          -307449.296540476,
          -300419.261847068,
          -290432.8931589708,
          -277581.31618124264,
          -261971.38253018362,
          -243725.09526301318,
          -222978.95850495514,
          -199883.2544088785,
          -174601.25104263407,
          -147308.34513407343,
          -118191.14392803347,
          -87446.49070260255,
          -55280.438776857336,
          -21907.179083052262,
          12452.073379513153,
          47570.228708322014,
          83215.50118398163,
          119152.61245420923,
          155144.01285752474,
          190951.11484948706,
          226335.53242589717,
          261060.3204136829,
          294891.2074956519,
          327597.81686492474,
          358954.868469019,
          388743.35688339645,
          416751.6989858093,
          442776.8457328198,
          466625.35253244557,
          488114.40289115184,
          507072.7802556213,
          523341.7832112655,
          536776.0794828192,
          547244.4944758912,
          554630.7304213847,
          558834.0125202432,
          559769.6588447232,
          557369.5711227615,
          551582.643919511,
          542375.0901281495,
          529730.6810907271,
          513650.90008781804,
          494155.00835754845,
          471280.0232344451,
          445080.6084252425,
          415628.8768721985,
          383014.10707769,
          347342.37419242295,
          308736.09758103563,
          267333.5069944313,
          223288.0298686657,
          176767.6026684855,
          127953.90954866572,
          77041.55198593212,
          24237.15334601757,
          -30241.59730186153,
          -86166.95753814142,
          -143302.1952312787,
          -201402.69834211448,
          -260217.12553445785,
          -319488.5920420494,
          -378955.88505689084,
          -438354.7027635548,
          -497418.9110258873,
          -555881.8116365466,
          -613477.4159910734,
          -669941.718006416,
          -725013.9601163963,
          -778437.8861949793,
          -829962.9753303519,
          -879345.6504511682,
          -926350.4559366719,
          -970751.1984792148,
          -1012332.0456537361,
          -1050888.5768413844,
          -1086228.7813926078,
          -1118173.9991597112,
          -1146559.7988145188,
          -1171236.7896587725,
          -1192071.3629624564,
          -1208946.3591989137,
          -1221761.6579087342,
          -1230434.687293266,
          -1234900.851030223,
          -1235113.8702007732,
          -1231046.038630002,
          -1222688.3903599388,
          -1210050.7783994265,
          -1193161.864325649,
          -1172069.0187396703,
          -1146838.1330159975,
          -1117553.3432063363,
          -1084316.6673937798,
          -1047247.5582010306,
          -1006482.3725771252,
          -962173.7613787791,
          -914489.9816585022,
          -863614.1349376832,
          -809743.3351084266,
          -753087.8099438227,
          -693869.9405168602,
          -632323.2431334789,
          -568691.2986586723,
          -503226.63436802925,
          -436189.5636938241,
          -367846.9894265508,
          -298471.1761223551,
          -228338.49760150874,
          -157728.16555698527,
          -86920.94536856806,
          -16197.865293235676,
          54161.07477907169,
          123878.18880609916,
          192679.3781411548,
          260295.38704593375,
          326463.03414186224,
          390926.4139054687,
          453438.06244552,
          513760.0819878868,
          571665.2186819221,
          626937.8885828139,
          679375.14690407,
          728787.5959227902,
          775000.2272070909,
          817853.1941669668,
          857202.5112540633,
          892920.676511466,
          924897.2145252674,
          953039.1372376987,
          977271.3204644328,
          997536.7943791787,
          1013796.9466392967,
          1026031.637256028,
          1034239.2247368243,
          1038436.5034618075,
          1038658.5526842185,
          1034958.4979756661,
          1027407.1863602818,
          1016092.776801194,
          1001120.2481129756,
          982610.826773088,
          960701.3374950911,
          935543.4797976917,
          907303.0341652661,
          876159.0017318357,
          842302.6817466142,
          805936.6913741787,
          767273.932666657,
          726536.511793151,
          683954.6158486103,
          639765.3527603105,
          594211.5599951012,
          547540.5879108834,
          500003.06372518354
         ],
         "yaxis": "y2"
        }
       ],
       "layout": {
        "height": 400,
        "showlegend": false,
        "template": {
         "data": {
          "bar": [
           {
            "error_x": {
             "color": "#2a3f5f"
            },
            "error_y": {
             "color": "#2a3f5f"
            },
            "marker": {
             "line": {
              "color": "#E5ECF6",
              "width": 0.5
             },
             "pattern": {
              "fillmode": "overlay",
              "size": 10,
              "solidity": 0.2
             }
            },
            "type": "bar"
           }
          ],
          "barpolar": [
           {
            "marker": {
             "line": {
              "color": "#E5ECF6",
              "width": 0.5
             },
             "pattern": {
              "fillmode": "overlay",
              "size": 10,
              "solidity": 0.2
             }
            },
            "type": "barpolar"
           }
          ],
          "carpet": [
           {
            "aaxis": {
             "endlinecolor": "#2a3f5f",
             "gridcolor": "white",
             "linecolor": "white",
             "minorgridcolor": "white",
             "startlinecolor": "#2a3f5f"
            },
            "baxis": {
             "endlinecolor": "#2a3f5f",
             "gridcolor": "white",
             "linecolor": "white",
             "minorgridcolor": "white",
             "startlinecolor": "#2a3f5f"
            },
            "type": "carpet"
           }
          ],
          "choropleth": [
           {
            "colorbar": {
             "outlinewidth": 0,
             "ticks": ""
            },
            "type": "choropleth"
           }
          ],
          "contour": [
           {
            "colorbar": {
             "outlinewidth": 0,
             "ticks": ""
            },
            "colorscale": [
             [
              0,
              "#0d0887"
             ],
             [
              0.1111111111111111,
              "#46039f"
             ],
             [
              0.2222222222222222,
              "#7201a8"
             ],
             [
              0.3333333333333333,
              "#9c179e"
             ],
             [
              0.4444444444444444,
              "#bd3786"
             ],
             [
              0.5555555555555556,
              "#d8576b"
             ],
             [
              0.6666666666666666,
              "#ed7953"
             ],
             [
              0.7777777777777778,
              "#fb9f3a"
             ],
             [
              0.8888888888888888,
              "#fdca26"
             ],
             [
              1,
              "#f0f921"
             ]
            ],
            "type": "contour"
           }
          ],
          "contourcarpet": [
           {
            "colorbar": {
             "outlinewidth": 0,
             "ticks": ""
            },
            "type": "contourcarpet"
           }
          ],
          "heatmap": [
           {
            "colorbar": {
             "outlinewidth": 0,
             "ticks": ""
            },
            "colorscale": [
             [
              0,
              "#0d0887"
             ],
             [
              0.1111111111111111,
              "#46039f"
             ],
             [
              0.2222222222222222,
              "#7201a8"
             ],
             [
              0.3333333333333333,
              "#9c179e"
             ],
             [
              0.4444444444444444,
              "#bd3786"
             ],
             [
              0.5555555555555556,
              "#d8576b"
             ],
             [
              0.6666666666666666,
              "#ed7953"
             ],
             [
              0.7777777777777778,
              "#fb9f3a"
             ],
             [
              0.8888888888888888,
              "#fdca26"
             ],
             [
              1,
              "#f0f921"
             ]
            ],
            "type": "heatmap"
           }
          ],
          "heatmapgl": [
           {
            "colorbar": {
             "outlinewidth": 0,
             "ticks": ""
            },
            "colorscale": [
             [
              0,
              "#0d0887"
             ],
             [
              0.1111111111111111,
              "#46039f"
             ],
             [
              0.2222222222222222,
              "#7201a8"
             ],
             [
              0.3333333333333333,
              "#9c179e"
             ],
             [
              0.4444444444444444,
              "#bd3786"
             ],
             [
              0.5555555555555556,
              "#d8576b"
             ],
             [
              0.6666666666666666,
              "#ed7953"
             ],
             [
              0.7777777777777778,
              "#fb9f3a"
             ],
             [
              0.8888888888888888,
              "#fdca26"
             ],
             [
              1,
              "#f0f921"
             ]
            ],
            "type": "heatmapgl"
           }
          ],
          "histogram": [
           {
            "marker": {
             "pattern": {
              "fillmode": "overlay",
              "size": 10,
              "solidity": 0.2
             }
            },
            "type": "histogram"
           }
          ],
          "histogram2d": [
           {
            "colorbar": {
             "outlinewidth": 0,
             "ticks": ""
            },
            "colorscale": [
             [
              0,
              "#0d0887"
             ],
             [
              0.1111111111111111,
              "#46039f"
             ],
             [
              0.2222222222222222,
              "#7201a8"
             ],
             [
              0.3333333333333333,
              "#9c179e"
             ],
             [
              0.4444444444444444,
              "#bd3786"
             ],
             [
              0.5555555555555556,
              "#d8576b"
             ],
             [
              0.6666666666666666,
              "#ed7953"
             ],
             [
              0.7777777777777778,
              "#fb9f3a"
             ],
             [
              0.8888888888888888,
              "#fdca26"
             ],
             [
              1,
              "#f0f921"
             ]
            ],
            "type": "histogram2d"
           }
          ],
          "histogram2dcontour": [
           {
            "colorbar": {
             "outlinewidth": 0,
             "ticks": ""
            },
            "colorscale": [
             [
              0,
              "#0d0887"
             ],
             [
              0.1111111111111111,
              "#46039f"
             ],
             [
              0.2222222222222222,
              "#7201a8"
             ],
             [
              0.3333333333333333,
              "#9c179e"
             ],
             [
              0.4444444444444444,
              "#bd3786"
             ],
             [
              0.5555555555555556,
              "#d8576b"
             ],
             [
              0.6666666666666666,
              "#ed7953"
             ],
             [
              0.7777777777777778,
              "#fb9f3a"
             ],
             [
              0.8888888888888888,
              "#fdca26"
             ],
             [
              1,
              "#f0f921"
             ]
            ],
            "type": "histogram2dcontour"
           }
          ],
          "mesh3d": [
           {
            "colorbar": {
             "outlinewidth": 0,
             "ticks": ""
            },
            "type": "mesh3d"
           }
          ],
          "parcoords": [
           {
            "line": {
             "colorbar": {
              "outlinewidth": 0,
              "ticks": ""
             }
            },
            "type": "parcoords"
           }
          ],
          "pie": [
           {
            "automargin": true,
            "type": "pie"
           }
          ],
          "scatter": [
           {
            "fillpattern": {
             "fillmode": "overlay",
             "size": 10,
             "solidity": 0.2
            },
            "type": "scatter"
           }
          ],
          "scatter3d": [
           {
            "line": {
             "colorbar": {
              "outlinewidth": 0,
              "ticks": ""
             }
            },
            "marker": {
             "colorbar": {
              "outlinewidth": 0,
              "ticks": ""
             }
            },
            "type": "scatter3d"
           }
          ],
          "scattercarpet": [
           {
            "marker": {
             "colorbar": {
              "outlinewidth": 0,
              "ticks": ""
             }
            },
            "type": "scattercarpet"
           }
          ],
          "scattergeo": [
           {
            "marker": {
             "colorbar": {
              "outlinewidth": 0,
              "ticks": ""
             }
            },
            "type": "scattergeo"
           }
          ],
          "scattergl": [
           {
            "marker": {
             "colorbar": {
              "outlinewidth": 0,
              "ticks": ""
             }
            },
            "type": "scattergl"
           }
          ],
          "scattermapbox": [
           {
            "marker": {
             "colorbar": {
              "outlinewidth": 0,
              "ticks": ""
             }
            },
            "type": "scattermapbox"
           }
          ],
          "scatterpolar": [
           {
            "marker": {
             "colorbar": {
              "outlinewidth": 0,
              "ticks": ""
             }
            },
            "type": "scatterpolar"
           }
          ],
          "scatterpolargl": [
           {
            "marker": {
             "colorbar": {
              "outlinewidth": 0,
              "ticks": ""
             }
            },
            "type": "scatterpolargl"
           }
          ],
          "scatterternary": [
           {
            "marker": {
             "colorbar": {
              "outlinewidth": 0,
              "ticks": ""
             }
            },
            "type": "scatterternary"
           }
          ],
          "surface": [
           {
            "colorbar": {
             "outlinewidth": 0,
             "ticks": ""
            },
            "colorscale": [
             [
              0,
              "#0d0887"
             ],
             [
              0.1111111111111111,
              "#46039f"
             ],
             [
              0.2222222222222222,
              "#7201a8"
             ],
             [
              0.3333333333333333,
              "#9c179e"
             ],
             [
              0.4444444444444444,
              "#bd3786"
             ],
             [
              0.5555555555555556,
              "#d8576b"
             ],
             [
              0.6666666666666666,
              "#ed7953"
             ],
             [
              0.7777777777777778,
              "#fb9f3a"
             ],
             [
              0.8888888888888888,
              "#fdca26"
             ],
             [
              1,
              "#f0f921"
             ]
            ],
            "type": "surface"
           }
          ],
          "table": [
           {
            "cells": {
             "fill": {
              "color": "#EBF0F8"
             },
             "line": {
              "color": "white"
             }
            },
            "header": {
             "fill": {
              "color": "#C8D4E3"
             },
             "line": {
              "color": "white"
             }
            },
            "type": "table"
           }
          ]
         },
         "layout": {
          "annotationdefaults": {
           "arrowcolor": "#2a3f5f",
           "arrowhead": 0,
           "arrowwidth": 1
          },
          "autotypenumbers": "strict",
          "coloraxis": {
           "colorbar": {
            "outlinewidth": 0,
            "ticks": ""
           }
          },
          "colorscale": {
           "diverging": [
            [
             0,
             "#8e0152"
            ],
            [
             0.1,
             "#c51b7d"
            ],
            [
             0.2,
             "#de77ae"
            ],
            [
             0.3,
             "#f1b6da"
            ],
            [
             0.4,
             "#fde0ef"
            ],
            [
             0.5,
             "#f7f7f7"
            ],
            [
             0.6,
             "#e6f5d0"
            ],
            [
             0.7,
             "#b8e186"
            ],
            [
             0.8,
             "#7fbc41"
            ],
            [
             0.9,
             "#4d9221"
            ],
            [
             1,
             "#276419"
            ]
           ],
           "sequential": [
            [
             0,
             "#0d0887"
            ],
            [
             0.1111111111111111,
             "#46039f"
            ],
            [
             0.2222222222222222,
             "#7201a8"
            ],
            [
             0.3333333333333333,
             "#9c179e"
            ],
            [
             0.4444444444444444,
             "#bd3786"
            ],
            [
             0.5555555555555556,
             "#d8576b"
            ],
            [
             0.6666666666666666,
             "#ed7953"
            ],
            [
             0.7777777777777778,
             "#fb9f3a"
            ],
            [
             0.8888888888888888,
             "#fdca26"
            ],
            [
             1,
             "#f0f921"
            ]
           ],
           "sequentialminus": [
            [
             0,
             "#0d0887"
            ],
            [
             0.1111111111111111,
             "#46039f"
            ],
            [
             0.2222222222222222,
             "#7201a8"
            ],
            [
             0.3333333333333333,
             "#9c179e"
            ],
            [
             0.4444444444444444,
             "#bd3786"
            ],
            [
             0.5555555555555556,
             "#d8576b"
            ],
            [
             0.6666666666666666,
             "#ed7953"
            ],
            [
             0.7777777777777778,
             "#fb9f3a"
            ],
            [
             0.8888888888888888,
             "#fdca26"
            ],
            [
             1,
             "#f0f921"
            ]
           ]
          },
          "colorway": [
           "#636efa",
           "#EF553B",
           "#00cc96",
           "#ab63fa",
           "#FFA15A",
           "#19d3f3",
           "#FF6692",
           "#B6E880",
           "#FF97FF",
           "#FECB52"
          ],
          "font": {
           "color": "#2a3f5f"
          },
          "geo": {
           "bgcolor": "white",
           "lakecolor": "white",
           "landcolor": "#E5ECF6",
           "showlakes": true,
           "showland": true,
           "subunitcolor": "white"
          },
          "hoverlabel": {
           "align": "left"
          },
          "hovermode": "closest",
          "mapbox": {
           "style": "light"
          },
          "paper_bgcolor": "white",
          "plot_bgcolor": "#E5ECF6",
          "polar": {
           "angularaxis": {
            "gridcolor": "white",
            "linecolor": "white",
            "ticks": ""
           },
           "bgcolor": "#E5ECF6",
           "radialaxis": {
            "gridcolor": "white",
            "linecolor": "white",
            "ticks": ""
           }
          },
          "scene": {
           "xaxis": {
            "backgroundcolor": "#E5ECF6",
            "gridcolor": "white",
            "gridwidth": 2,
            "linecolor": "white",
            "showbackground": true,
            "ticks": "",
            "zerolinecolor": "white"
           },
           "yaxis": {
            "backgroundcolor": "#E5ECF6",
            "gridcolor": "white",
            "gridwidth": 2,
            "linecolor": "white",
            "showbackground": true,
            "ticks": "",
            "zerolinecolor": "white"
           },
           "zaxis": {
            "backgroundcolor": "#E5ECF6",
            "gridcolor": "white",
            "gridwidth": 2,
            "linecolor": "white",
            "showbackground": true,
            "ticks": "",
            "zerolinecolor": "white"
           }
          },
          "shapedefaults": {
           "line": {
            "color": "#2a3f5f"
           }
          },
          "ternary": {
           "aaxis": {
            "gridcolor": "white",
            "linecolor": "white",
            "ticks": ""
           },
           "baxis": {
            "gridcolor": "white",
            "linecolor": "white",
            "ticks": ""
           },
           "bgcolor": "#E5ECF6",
           "caxis": {
            "gridcolor": "white",
            "linecolor": "white",
            "ticks": ""
           }
          },
          "title": {
           "x": 0.05
          },
          "xaxis": {
           "automargin": true,
           "gridcolor": "white",
           "linecolor": "white",
           "ticks": "",
           "title": {
            "standoff": 15
           },
           "zerolinecolor": "white",
           "zerolinewidth": 2
          },
          "yaxis": {
           "automargin": true,
           "gridcolor": "white",
           "linecolor": "white",
           "ticks": "",
           "title": {
            "standoff": 15
           },
           "zerolinecolor": "white",
           "zerolinewidth": 2
          }
         }
        },
        "width": 900,
        "xaxis": {
         "anchor": "y",
         "domain": [
          0,
          1
         ],
         "range": [
          "2015-08-03T09:36:00",
          "2024-08-28T14:24:00"
         ],
         "type": "date"
        },
        "xaxis2": {
         "anchor": "y2",
         "domain": [
          0,
          1
         ],
         "range": [
          "2016-12-23T00:36:12",
          "2017-07-08T11:19:48"
         ],
         "tickformat": "%B %e",
         "type": "date"
        },
        "yaxis": {
         "anchor": "x",
         "domain": [
          0.575,
          1
         ],
         "rangemode": "normal",
         "title": {
          "text": "trend"
         },
         "zerolinecolor": "#AAA"
        },
        "yaxis2": {
         "anchor": "x2",
         "domain": [
          0,
          0.425
         ],
         "title": {
          "text": "monthly"
         },
         "zerolinecolor": "#AAA"
        }
       }
      }
     },
     "metadata": {},
     "output_type": "display_data"
    }
   ],
   "source": [
    "from plotly.subplots import make_subplots\n",
    "import plotly.graph_objs as go\n",
    "# Plot forecast and components\n",
    "fig = plot_plotly(model, forecast)\n",
    "fig.show()\n",
    "fig = plot_components_plotly(model, forecast)\n",
    "fig.show()\n",
    "\n",
    "fc = forecast[['ds', 'yhat']]"
   ]
  },
  {
   "cell_type": "code",
   "execution_count": 15,
   "metadata": {},
   "outputs": [
    {
     "data": {
      "text/html": [
       "<div>\n",
       "<style scoped>\n",
       "    .dataframe tbody tr th:only-of-type {\n",
       "        vertical-align: middle;\n",
       "    }\n",
       "\n",
       "    .dataframe tbody tr th {\n",
       "        vertical-align: top;\n",
       "    }\n",
       "\n",
       "    .dataframe thead th {\n",
       "        text-align: right;\n",
       "    }\n",
       "</style>\n",
       "<table border=\"1\" class=\"dataframe\">\n",
       "  <thead>\n",
       "    <tr style=\"text-align: right;\">\n",
       "      <th></th>\n",
       "      <th>ds</th>\n",
       "      <th>yhat</th>\n",
       "      <th>yhat_lower</th>\n",
       "      <th>yhat_upper</th>\n",
       "    </tr>\n",
       "  </thead>\n",
       "  <tbody>\n",
       "    <tr>\n",
       "      <th>96</th>\n",
       "      <td>2023-12-31</td>\n",
       "      <td>5.793851e+07</td>\n",
       "      <td>5.469913e+07</td>\n",
       "      <td>6.130065e+07</td>\n",
       "    </tr>\n",
       "    <tr>\n",
       "      <th>97</th>\n",
       "      <td>2024-01-31</td>\n",
       "      <td>5.927253e+07</td>\n",
       "      <td>5.614152e+07</td>\n",
       "      <td>6.247303e+07</td>\n",
       "    </tr>\n",
       "    <tr>\n",
       "      <th>98</th>\n",
       "      <td>2024-02-29</td>\n",
       "      <td>5.876779e+07</td>\n",
       "      <td>5.558301e+07</td>\n",
       "      <td>6.204791e+07</td>\n",
       "    </tr>\n",
       "    <tr>\n",
       "      <th>99</th>\n",
       "      <td>2024-03-31</td>\n",
       "      <td>5.862877e+07</td>\n",
       "      <td>5.531667e+07</td>\n",
       "      <td>6.187102e+07</td>\n",
       "    </tr>\n",
       "  </tbody>\n",
       "</table>\n",
       "</div>"
      ],
      "text/plain": [
       "           ds          yhat    yhat_lower    yhat_upper\n",
       "96 2023-12-31  5.793851e+07  5.469913e+07  6.130065e+07\n",
       "97 2024-01-31  5.927253e+07  5.614152e+07  6.247303e+07\n",
       "98 2024-02-29  5.876779e+07  5.558301e+07  6.204791e+07\n",
       "99 2024-03-31  5.862877e+07  5.531667e+07  6.187102e+07"
      ]
     },
     "execution_count": 15,
     "metadata": {},
     "output_type": "execute_result"
    }
   ],
   "source": [
    "predicted_values.tail(8)"
   ]
  },
  {
   "cell_type": "markdown",
   "metadata": {},
   "source": [
    "### In the fc file we can see the results of the forecasting for 3 months in the future in the column 'yhat' and the upper/lower CI. "
   ]
  },
  {
   "cell_type": "code",
   "execution_count": 17,
   "metadata": {},
   "outputs": [
    {
     "data": {
      "image/png": "[encoded data removed]",
      "text/plain": [
       "<Figure size 720x432 with 1 Axes>"
      ]
     },
     "metadata": {
      "needs_background": "light"
     },
     "output_type": "display_data"
    }
   ],
   "source": [
    "import matplotlib.pyplot as plt\n",
    "plt.figure(figsize=(10, 6))\n",
    "\n",
    "# Plot actual data\n",
    "plt.plot(df['ds'], df['y'], label='Actual', color='blue')\n",
    "\n",
    "# Plot forecasted data\n",
    "plt.plot(forecast['ds'], forecast['yhat'], label='Forecast', color='orange')\n",
    "\n",
    "# Fill confidence interval\n",
    "plt.fill_between(forecast['ds'], forecast['yhat_lower'], forecast['yhat_upper'], color='orange', alpha=0.2)\n",
    "\n",
    "# Customize the plot\n",
    "plt.title('Actual vs Forecasted Data')\n",
    "plt.xlabel('Date')\n",
    "plt.ylabel('Visits')\n",
    "plt.legend()\n",
    "plt.grid(True)\n",
    "plt.show()\n"
   ]
  },
  {
   "cell_type": "code",
   "execution_count": null,
   "metadata": {},
   "outputs": [],
   "source": []
  }
 ],
 "metadata": {
  "kernelspec": {
   "display_name": "base",
   "language": "python",
   "name": "python3"
  },
  "language_info": {
   "codemirror_mode": {
    "name": "ipython",
    "version": 3
   },
   "file_extension": ".py",
   "mimetype": "text/x-python",
   "name": "python",
   "nbconvert_exporter": "python",
   "pygments_lexer": "ipython3",
   "version": "3.9.7"
  }
 },
 "nbformat": 4,
 "nbformat_minor": 2
}
