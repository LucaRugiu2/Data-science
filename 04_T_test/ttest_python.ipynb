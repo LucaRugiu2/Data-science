{
 "cells": [
  {
   "cell_type": "markdown",
   "id": "a31cd762",
   "metadata": {},
   "source": [
    "# Single t-test"
   ]
  },
  {
   "cell_type": "markdown",
   "id": "c08899c6",
   "metadata": {},
   "source": [
    "The Student's t-test is a statistical method used to compare the means of two groups to determine if they are significantly different from each other. It is commonly employed in hypothesis testing when the data sets being compared follow a normal distribution and have similar variances. The t-test assesses whether the observed differences between the group means are likely to be due to random chance or if they are statistically significant. The result of the test is a t-statistic and a p-value, with a lower p-value indicating stronger evidence against the null hypothesis (no significant difference). This test is widely used in various fields, including science, medicine, and social sciences, to draw conclusions about the significance of differences between sample means."
   ]
  },
  {
   "cell_type": "code",
   "execution_count": 42,
   "id": "f9432931",
   "metadata": {},
   "outputs": [],
   "source": [
    "import pandas as pd\n",
    "import numpy as np"
   ]
  },
  {
   "cell_type": "code",
   "execution_count": 43,
   "id": "56ba872b",
   "metadata": {},
   "outputs": [
    {
     "data": {
      "text/html": [
       "<div>\n",
       "<style scoped>\n",
       "    .dataframe tbody tr th:only-of-type {\n",
       "        vertical-align: middle;\n",
       "    }\n",
       "\n",
       "    .dataframe tbody tr th {\n",
       "        vertical-align: top;\n",
       "    }\n",
       "\n",
       "    .dataframe thead th {\n",
       "        text-align: right;\n",
       "    }\n",
       "</style>\n",
       "<table border=\"1\" class=\"dataframe\">\n",
       "  <thead>\n",
       "    <tr style=\"text-align: right;\">\n",
       "      <th></th>\n",
       "      <th>WEEK_ID</th>\n",
       "      <th>MEMBERSHIP</th>\n",
       "      <th>ENGAGEMENT_EVENTS</th>\n",
       "    </tr>\n",
       "  </thead>\n",
       "  <tbody>\n",
       "    <tr>\n",
       "      <th>0</th>\n",
       "      <td>202001</td>\n",
       "      <td>b2c_payer</td>\n",
       "      <td>221238</td>\n",
       "    </tr>\n",
       "    <tr>\n",
       "      <th>1</th>\n",
       "      <td>202002</td>\n",
       "      <td>b2c_payer</td>\n",
       "      <td>471124</td>\n",
       "    </tr>\n",
       "    <tr>\n",
       "      <th>2</th>\n",
       "      <td>202003</td>\n",
       "      <td>b2c_payer</td>\n",
       "      <td>522385</td>\n",
       "    </tr>\n",
       "    <tr>\n",
       "      <th>3</th>\n",
       "      <td>202004</td>\n",
       "      <td>b2c_payer</td>\n",
       "      <td>531555</td>\n",
       "    </tr>\n",
       "    <tr>\n",
       "      <th>4</th>\n",
       "      <td>202005</td>\n",
       "      <td>b2c_payer</td>\n",
       "      <td>543771</td>\n",
       "    </tr>\n",
       "  </tbody>\n",
       "</table>\n",
       "</div>"
      ],
      "text/plain": [
       "   WEEK_ID MEMBERSHIP  ENGAGEMENT_EVENTS\n",
       "0   202001  b2c_payer             221238\n",
       "1   202002  b2c_payer             471124\n",
       "2   202003  b2c_payer             522385\n",
       "3   202004  b2c_payer             531555\n",
       "4   202005  b2c_payer             543771"
      ]
     },
     "execution_count": 43,
     "metadata": {},
     "output_type": "execute_result"
    }
   ],
   "source": [
    "df = pd.read_csv('/Users/luca.rugiu/Desktop/Data_science_tools/ttests/ttest.csv')\n",
    "df.head()"
   ]
  },
  {
   "cell_type": "code",
   "execution_count": 44,
   "id": "b5d66a82",
   "metadata": {},
   "outputs": [
    {
     "data": {
      "text/html": [
       "<div>\n",
       "<style scoped>\n",
       "    .dataframe tbody tr th:only-of-type {\n",
       "        vertical-align: middle;\n",
       "    }\n",
       "\n",
       "    .dataframe tbody tr th {\n",
       "        vertical-align: top;\n",
       "    }\n",
       "\n",
       "    .dataframe thead th {\n",
       "        text-align: right;\n",
       "    }\n",
       "</style>\n",
       "<table border=\"1\" class=\"dataframe\">\n",
       "  <thead>\n",
       "    <tr style=\"text-align: right;\">\n",
       "      <th></th>\n",
       "      <th>WEEK_ID</th>\n",
       "      <th>MEMBERSHIP</th>\n",
       "      <th>ENGAGEMENT_EVENTS</th>\n",
       "    </tr>\n",
       "  </thead>\n",
       "  <tbody>\n",
       "    <tr>\n",
       "      <th>0</th>\n",
       "      <td>202001</td>\n",
       "      <td>b2c_payer</td>\n",
       "      <td>221238</td>\n",
       "    </tr>\n",
       "    <tr>\n",
       "      <th>1</th>\n",
       "      <td>202002</td>\n",
       "      <td>b2c_payer</td>\n",
       "      <td>471124</td>\n",
       "    </tr>\n",
       "    <tr>\n",
       "      <th>2</th>\n",
       "      <td>202003</td>\n",
       "      <td>b2c_payer</td>\n",
       "      <td>522385</td>\n",
       "    </tr>\n",
       "    <tr>\n",
       "      <th>3</th>\n",
       "      <td>202004</td>\n",
       "      <td>b2c_payer</td>\n",
       "      <td>531555</td>\n",
       "    </tr>\n",
       "    <tr>\n",
       "      <th>4</th>\n",
       "      <td>202005</td>\n",
       "      <td>b2c_payer</td>\n",
       "      <td>543771</td>\n",
       "    </tr>\n",
       "    <tr>\n",
       "      <th>...</th>\n",
       "      <td>...</td>\n",
       "      <td>...</td>\n",
       "      <td>...</td>\n",
       "    </tr>\n",
       "    <tr>\n",
       "      <th>173</th>\n",
       "      <td>202132</td>\n",
       "      <td>basic</td>\n",
       "      <td>527893</td>\n",
       "    </tr>\n",
       "    <tr>\n",
       "      <th>174</th>\n",
       "      <td>202133</td>\n",
       "      <td>basic</td>\n",
       "      <td>528682</td>\n",
       "    </tr>\n",
       "    <tr>\n",
       "      <th>175</th>\n",
       "      <td>202134</td>\n",
       "      <td>basic</td>\n",
       "      <td>532956</td>\n",
       "    </tr>\n",
       "    <tr>\n",
       "      <th>176</th>\n",
       "      <td>202135</td>\n",
       "      <td>basic</td>\n",
       "      <td>570819</td>\n",
       "    </tr>\n",
       "    <tr>\n",
       "      <th>177</th>\n",
       "      <td>202136</td>\n",
       "      <td>basic</td>\n",
       "      <td>585374</td>\n",
       "    </tr>\n",
       "  </tbody>\n",
       "</table>\n",
       "<p>178 rows × 3 columns</p>\n",
       "</div>"
      ],
      "text/plain": [
       "     WEEK_ID MEMBERSHIP  ENGAGEMENT_EVENTS\n",
       "0     202001  b2c_payer             221238\n",
       "1     202002  b2c_payer             471124\n",
       "2     202003  b2c_payer             522385\n",
       "3     202004  b2c_payer             531555\n",
       "4     202005  b2c_payer             543771\n",
       "..       ...        ...                ...\n",
       "173   202132      basic             527893\n",
       "174   202133      basic             528682\n",
       "175   202134      basic             532956\n",
       "176   202135      basic             570819\n",
       "177   202136      basic             585374\n",
       "\n",
       "[178 rows x 3 columns]"
      ]
     },
     "execution_count": 44,
     "metadata": {},
     "output_type": "execute_result"
    }
   ],
   "source": [
    "df = pd.DataFrame(df)\n",
    "df"
   ]
  },
  {
   "cell_type": "markdown",
   "id": "aa64ea86",
   "metadata": {},
   "source": [
    "check data are properly loaded:"
   ]
  },
  {
   "cell_type": "code",
   "execution_count": 45,
   "id": "d63a2883",
   "metadata": {
    "scrolled": true
   },
   "outputs": [
    {
     "data": {
      "text/html": [
       "<div>\n",
       "<style scoped>\n",
       "    .dataframe tbody tr th:only-of-type {\n",
       "        vertical-align: middle;\n",
       "    }\n",
       "\n",
       "    .dataframe tbody tr th {\n",
       "        vertical-align: top;\n",
       "    }\n",
       "\n",
       "    .dataframe thead th {\n",
       "        text-align: right;\n",
       "    }\n",
       "</style>\n",
       "<table border=\"1\" class=\"dataframe\">\n",
       "  <thead>\n",
       "    <tr style=\"text-align: right;\">\n",
       "      <th></th>\n",
       "      <th>WEEK_ID</th>\n",
       "      <th>ENGAGEMENT_EVENTS</th>\n",
       "    </tr>\n",
       "    <tr>\n",
       "      <th>MEMBERSHIP</th>\n",
       "      <th></th>\n",
       "      <th></th>\n",
       "    </tr>\n",
       "  </thead>\n",
       "  <tbody>\n",
       "    <tr>\n",
       "      <th>b2c_payer</th>\n",
       "      <td>202064.011236</td>\n",
       "      <td>416578.213483</td>\n",
       "    </tr>\n",
       "    <tr>\n",
       "      <th>basic</th>\n",
       "      <td>202064.011236</td>\n",
       "      <td>566658.775281</td>\n",
       "    </tr>\n",
       "  </tbody>\n",
       "</table>\n",
       "</div>"
      ],
      "text/plain": [
       "                  WEEK_ID  ENGAGEMENT_EVENTS\n",
       "MEMBERSHIP                                  \n",
       "b2c_payer   202064.011236      416578.213483\n",
       "basic       202064.011236      566658.775281"
      ]
     },
     "execution_count": 45,
     "metadata": {},
     "output_type": "execute_result"
    }
   ],
   "source": [
    "#some summary stats\n",
    "df.groupby(\"MEMBERSHIP\").mean()"
   ]
  },
  {
   "cell_type": "code",
   "execution_count": 46,
   "id": "195e6452",
   "metadata": {
    "scrolled": true
   },
   "outputs": [
    {
     "data": {
      "text/plain": [
       "array([[<AxesSubplot: title={'center': 'ENGAGEMENT_EVENTS'}>]],\n",
       "      dtype=object)"
      ]
     },
     "execution_count": 46,
     "metadata": {},
     "output_type": "execute_result"
    },
    {
     "data": {
      "image/png": "[encoded data removed]",
      "text/plain": [
       "<Figure size 640x480 with 1 Axes>"
      ]
     },
     "metadata": {},
     "output_type": "display_data"
    }
   ],
   "source": [
    "df.hist(column='ENGAGEMENT_EVENTS')"
   ]
  },
  {
   "cell_type": "code",
   "execution_count": 47,
   "id": "0deec23f",
   "metadata": {},
   "outputs": [
    {
     "data": {
      "text/html": [
       "<div>\n",
       "<style scoped>\n",
       "    .dataframe tbody tr th:only-of-type {\n",
       "        vertical-align: middle;\n",
       "    }\n",
       "\n",
       "    .dataframe tbody tr th {\n",
       "        vertical-align: top;\n",
       "    }\n",
       "\n",
       "    .dataframe thead tr th {\n",
       "        text-align: left;\n",
       "    }\n",
       "\n",
       "    .dataframe thead tr:last-of-type th {\n",
       "        text-align: right;\n",
       "    }\n",
       "</style>\n",
       "<table border=\"1\" class=\"dataframe\">\n",
       "  <thead>\n",
       "    <tr>\n",
       "      <th></th>\n",
       "      <th colspan=\"8\" halign=\"left\">WEEK_ID</th>\n",
       "      <th colspan=\"8\" halign=\"left\">ENGAGEMENT_EVENTS</th>\n",
       "    </tr>\n",
       "    <tr>\n",
       "      <th></th>\n",
       "      <th>count</th>\n",
       "      <th>mean</th>\n",
       "      <th>std</th>\n",
       "      <th>min</th>\n",
       "      <th>25%</th>\n",
       "      <th>50%</th>\n",
       "      <th>75%</th>\n",
       "      <th>max</th>\n",
       "      <th>count</th>\n",
       "      <th>mean</th>\n",
       "      <th>std</th>\n",
       "      <th>min</th>\n",
       "      <th>25%</th>\n",
       "      <th>50%</th>\n",
       "      <th>75%</th>\n",
       "      <th>max</th>\n",
       "    </tr>\n",
       "    <tr>\n",
       "      <th>MEMBERSHIP</th>\n",
       "      <th></th>\n",
       "      <th></th>\n",
       "      <th></th>\n",
       "      <th></th>\n",
       "      <th></th>\n",
       "      <th></th>\n",
       "      <th></th>\n",
       "      <th></th>\n",
       "      <th></th>\n",
       "      <th></th>\n",
       "      <th></th>\n",
       "      <th></th>\n",
       "      <th></th>\n",
       "      <th></th>\n",
       "      <th></th>\n",
       "      <th></th>\n",
       "    </tr>\n",
       "  </thead>\n",
       "  <tbody>\n",
       "    <tr>\n",
       "      <th>b2c_payer</th>\n",
       "      <td>89.0</td>\n",
       "      <td>202064.011236</td>\n",
       "      <td>47.166652</td>\n",
       "      <td>202001.0</td>\n",
       "      <td>202023.0</td>\n",
       "      <td>202045.0</td>\n",
       "      <td>202114.0</td>\n",
       "      <td>202136.0</td>\n",
       "      <td>89.0</td>\n",
       "      <td>416578.213483</td>\n",
       "      <td>64302.167550</td>\n",
       "      <td>221238.0</td>\n",
       "      <td>381524.0</td>\n",
       "      <td>413437.0</td>\n",
       "      <td>454823.0</td>\n",
       "      <td>548777.0</td>\n",
       "    </tr>\n",
       "    <tr>\n",
       "      <th>basic</th>\n",
       "      <td>89.0</td>\n",
       "      <td>202064.011236</td>\n",
       "      <td>47.166652</td>\n",
       "      <td>202001.0</td>\n",
       "      <td>202023.0</td>\n",
       "      <td>202045.0</td>\n",
       "      <td>202114.0</td>\n",
       "      <td>202136.0</td>\n",
       "      <td>89.0</td>\n",
       "      <td>566658.775281</td>\n",
       "      <td>73839.961029</td>\n",
       "      <td>278027.0</td>\n",
       "      <td>523072.0</td>\n",
       "      <td>564070.0</td>\n",
       "      <td>626043.0</td>\n",
       "      <td>707629.0</td>\n",
       "    </tr>\n",
       "  </tbody>\n",
       "</table>\n",
       "</div>"
      ],
      "text/plain": [
       "           WEEK_ID                                                          \\\n",
       "             count           mean        std       min       25%       50%   \n",
       "MEMBERSHIP                                                                   \n",
       "b2c_payer     89.0  202064.011236  47.166652  202001.0  202023.0  202045.0   \n",
       "basic         89.0  202064.011236  47.166652  202001.0  202023.0  202045.0   \n",
       "\n",
       "                               ENGAGEMENT_EVENTS                               \\\n",
       "                 75%       max             count           mean           std   \n",
       "MEMBERSHIP                                                                      \n",
       "b2c_payer   202114.0  202136.0              89.0  416578.213483  64302.167550   \n",
       "basic       202114.0  202136.0              89.0  566658.775281  73839.961029   \n",
       "\n",
       "                                                              \n",
       "                 min       25%       50%       75%       max  \n",
       "MEMBERSHIP                                                    \n",
       "b2c_payer   221238.0  381524.0  413437.0  454823.0  548777.0  \n",
       "basic       278027.0  523072.0  564070.0  626043.0  707629.0  "
      ]
     },
     "execution_count": 47,
     "metadata": {},
     "output_type": "execute_result"
    }
   ],
   "source": [
    "df.groupby('MEMBERSHIP').describe()"
   ]
  },
  {
   "cell_type": "markdown",
   "id": "48744c84",
   "metadata": {},
   "source": [
    "single t_test:\n",
    "Let’s say that the average number of eng.events is different from the average one for Xing in the previous years (389341). \n",
    "We want to know if our sample is about the same or significantly different from xing average. \n",
    "Let’s test it with a single sample t-test:"
   ]
  },
  {
   "cell_type": "code",
   "execution_count": 48,
   "id": "3e23b05e",
   "metadata": {},
   "outputs": [
    {
     "name": "stdout",
     "output_type": "stream",
     "text": [
      "t Statistic:  13.361705151741539\n",
      "P Value:  1.3094033633606727e-28\n"
     ]
    }
   ],
   "source": [
    "#If data are normally distributed go ahead, else skip to line 89\n",
    "\n",
    "from scipy.stats import ttest_1samp\n",
    "\n",
    "var = df['ENGAGEMENT_EVENTS']\n",
    "\n",
    "tscore, pvalue = ttest_1samp(var, popmean=389341)\n",
    "print(\"t Statistic: \", tscore)  \n",
    "print(\"P Value: \", pvalue)# mu is the mean from previous years, I made it up just for this example\n",
    "\n",
    "\n",
    "#what do the result say?\n",
    "\n",
    "#t : The smaller the t-value, the more similarity exists between the two sample sets. \n",
    "#A large t-score indicates that the groups are different. A small t-score indicates that the groups are similar.\n",
    "\n",
    "# df degreees of freedom (sample size minus 1)\n",
    "\n",
    "# p value...it says here that it is significanlty different"
   ]
  },
  {
   "cell_type": "code",
   "execution_count": 49,
   "id": "6ad22403",
   "metadata": {
    "scrolled": true
   },
   "outputs": [
    {
     "data": {
      "text/plain": [
       "491618.4943820225"
      ]
     },
     "execution_count": 49,
     "metadata": {},
     "output_type": "execute_result"
    }
   ],
   "source": [
    "sample_mean = np.mean(var)\n",
    "sample_mean"
   ]
  },
  {
   "cell_type": "code",
   "execution_count": 50,
   "id": "bbe64dfb",
   "metadata": {},
   "outputs": [
    {
     "name": "stderr",
     "output_type": "stream",
     "text": [
      "/var/folders/ks/wmds9wf92rs0mnhl7gwxbt200000gp/T/ipykernel_54730/665749509.py:1: FutureWarning: The default value of numeric_only in DataFrame.std is deprecated. In a future version, it will default to False. In addition, specifying 'numeric_only=None' is deprecated. Select only valid columns or specify the value of numeric_only to silence this warning.\n",
      "  sample_standard_deviation = (df.std()['ENGAGEMENT_EVENTS'])\n"
     ]
    },
    {
     "data": {
      "text/plain": [
       "102124.08939346031"
      ]
     },
     "execution_count": 50,
     "metadata": {},
     "output_type": "execute_result"
    }
   ],
   "source": [
    "sample_standard_deviation = (df.std()['ENGAGEMENT_EVENTS'])\n",
    "sample_standard_deviation"
   ]
  },
  {
   "cell_type": "code",
   "execution_count": 51,
   "id": "ed79fb5c",
   "metadata": {},
   "outputs": [],
   "source": [
    "population_mean = 389341"
   ]
  },
  {
   "cell_type": "code",
   "execution_count": 52,
   "id": "5874af28",
   "metadata": {},
   "outputs": [
    {
     "data": {
      "text/plain": [
       "1.001502143024954"
      ]
     },
     "execution_count": 52,
     "metadata": {},
     "output_type": "execute_result"
    }
   ],
   "source": [
    "cohens_d = (sample_mean - population_mean)/sample_standard_deviation\n",
    "cohens_d"
   ]
  },
  {
   "cell_type": "markdown",
   "id": "07524c4c",
   "metadata": {},
   "source": [
    "It looks like there is a very big difference (d = 1) between our sample and the population average. \n",
    "You may have also noticed that I took the absolute value of the Cohen’s d I computed; generally, we present Cohen’s d \n",
    "as a positive value representing only the difference in standard deviations, not the direction of the difference\n",
    "as a reference:\n",
    "0.2 - Small effect\n",
    "0.5 - Medium effect\n",
    "0.8 - Large effect"
   ]
  },
  {
   "cell_type": "code",
   "execution_count": null,
   "id": "a3b8437c",
   "metadata": {},
   "outputs": [],
   "source": []
  },
  {
   "cell_type": "markdown",
   "id": "9a9afe59",
   "metadata": {},
   "source": [
    "# Two samples t-test"
   ]
  },
  {
   "cell_type": "markdown",
   "id": "9caf1018",
   "metadata": {},
   "source": [
    "Now that we have an understanding of how our sample engagement_events compares to the population, \n",
    "we’re interested in whether there is a difference in engagement_events between paying and not paying members. \n",
    "data are real here\n",
    "We can test this using a two sample t-test and the following code:"
   ]
  },
  {
   "cell_type": "code",
   "execution_count": 53,
   "id": "9d5bc3d0",
   "metadata": {},
   "outputs": [
    {
     "data": {
      "text/plain": [
       "(-14.460244180420188, 9.636624372109385e-32, 176.0)"
      ]
     },
     "execution_count": 53,
     "metadata": {},
     "output_type": "execute_result"
    }
   ],
   "source": [
    "from statsmodels.stats.weightstats import ttest_ind\n",
    "premium = df.query('MEMBERSHIP == \"b2c_payer\"')['ENGAGEMENT_EVENTS']\n",
    "basic = df.query('MEMBERSHIP == \"basic\"')['ENGAGEMENT_EVENTS']\n",
    "\n",
    "ttest_ind(premium, basic)"
   ]
  },
  {
   "cell_type": "markdown",
   "id": "d8e29597",
   "metadata": {},
   "source": [
    "pip install pingouin"
   ]
  },
  {
   "cell_type": "code",
   "execution_count": 54,
   "id": "aa792789",
   "metadata": {},
   "outputs": [
    {
     "data": {
      "text/html": [
       "<div>\n",
       "<style scoped>\n",
       "    .dataframe tbody tr th:only-of-type {\n",
       "        vertical-align: middle;\n",
       "    }\n",
       "\n",
       "    .dataframe tbody tr th {\n",
       "        vertical-align: top;\n",
       "    }\n",
       "\n",
       "    .dataframe thead th {\n",
       "        text-align: right;\n",
       "    }\n",
       "</style>\n",
       "<table border=\"1\" class=\"dataframe\">\n",
       "  <thead>\n",
       "    <tr style=\"text-align: right;\">\n",
       "      <th></th>\n",
       "      <th>T</th>\n",
       "      <th>dof</th>\n",
       "      <th>alternative</th>\n",
       "      <th>p-val</th>\n",
       "      <th>CI95%</th>\n",
       "      <th>cohen-d</th>\n",
       "      <th>BF10</th>\n",
       "      <th>power</th>\n",
       "    </tr>\n",
       "  </thead>\n",
       "  <tbody>\n",
       "    <tr>\n",
       "      <th>T-test</th>\n",
       "      <td>-14.460244</td>\n",
       "      <td>176</td>\n",
       "      <td>two-sided</td>\n",
       "      <td>9.636624e-32</td>\n",
       "      <td>[-170563.56, -129597.56]</td>\n",
       "      <td>2.167682</td>\n",
       "      <td>2.058e+28</td>\n",
       "      <td>1.0</td>\n",
       "    </tr>\n",
       "  </tbody>\n",
       "</table>\n",
       "</div>"
      ],
      "text/plain": [
       "                T  dof alternative         p-val                     CI95%  \\\n",
       "T-test -14.460244  176   two-sided  9.636624e-32  [-170563.56, -129597.56]   \n",
       "\n",
       "         cohen-d       BF10  power  \n",
       "T-test  2.167682  2.058e+28    1.0  "
      ]
     },
     "metadata": {},
     "output_type": "display_data"
    }
   ],
   "source": [
    "import pingouin as pg\n",
    "\n",
    "res = pg.ttest(premium, basic, correction=False)\n",
    "display(res)"
   ]
  },
  {
   "cell_type": "markdown",
   "id": "12e50c45",
   "metadata": {},
   "source": [
    "Rather than testing against a standard, we are testing whether the difference between means is equal to 0. Second, the sample estimates now give us two numbers–the means for each of the groups.\n",
    "\n",
    "The results indicate that there is a significant difference between the groups (p < .001), and, \n",
    "looking at the sample mean estimates, it looks like paying members get about 15K events less than basic users.\n",
    "be aware that these data are absolute values and they should be adjusted for the number of users for each group, \n",
    "this is just for the exercise.\n",
    "\n",
    "Pinguin directly displays the Cohen effect size.\n"
   ]
  },
  {
   "cell_type": "code",
   "execution_count": 55,
   "id": "7cfe67f1",
   "metadata": {},
   "outputs": [
    {
     "data": {
      "text/plain": [
       "<AxesSubplot: xlabel='MEMBERSHIP', ylabel='ENGAGEMENT_EVENTS'>"
      ]
     },
     "execution_count": 55,
     "metadata": {},
     "output_type": "execute_result"
    },
    {
     "data": {
      "image/png": "[encoded data removed]",
      "text/plain": [
       "<Figure size 640x480 with 1 Axes>"
      ]
     },
     "metadata": {},
     "output_type": "display_data"
    }
   ],
   "source": [
    "import seaborn as sns\n",
    "\n",
    "sns.boxplot(x='MEMBERSHIP', y='ENGAGEMENT_EVENTS', data=df)"
   ]
  },
  {
   "cell_type": "code",
   "execution_count": null,
   "id": "6016d0ca",
   "metadata": {},
   "outputs": [],
   "source": []
  },
  {
   "cell_type": "markdown",
   "id": "d7ff21cf",
   "metadata": {},
   "source": [
    "# Alterntive to Normally distributed data"
   ]
  },
  {
   "cell_type": "code",
   "execution_count": 56,
   "id": "d9e1386c",
   "metadata": {},
   "outputs": [
    {
     "data": {
      "text/html": [
       "<div>\n",
       "<style scoped>\n",
       "    .dataframe tbody tr th:only-of-type {\n",
       "        vertical-align: middle;\n",
       "    }\n",
       "\n",
       "    .dataframe tbody tr th {\n",
       "        vertical-align: top;\n",
       "    }\n",
       "\n",
       "    .dataframe thead th {\n",
       "        text-align: right;\n",
       "    }\n",
       "</style>\n",
       "<table border=\"1\" class=\"dataframe\">\n",
       "  <thead>\n",
       "    <tr style=\"text-align: right;\">\n",
       "      <th></th>\n",
       "      <th>USER_ID</th>\n",
       "      <th>TOT_VISITS</th>\n",
       "    </tr>\n",
       "  </thead>\n",
       "  <tbody>\n",
       "    <tr>\n",
       "      <th>0</th>\n",
       "      <td>16797868</td>\n",
       "      <td>1</td>\n",
       "    </tr>\n",
       "    <tr>\n",
       "      <th>1</th>\n",
       "      <td>3443604</td>\n",
       "      <td>1</td>\n",
       "    </tr>\n",
       "    <tr>\n",
       "      <th>2</th>\n",
       "      <td>19200683</td>\n",
       "      <td>2</td>\n",
       "    </tr>\n",
       "    <tr>\n",
       "      <th>3</th>\n",
       "      <td>12007242</td>\n",
       "      <td>1</td>\n",
       "    </tr>\n",
       "    <tr>\n",
       "      <th>4</th>\n",
       "      <td>19211193</td>\n",
       "      <td>2</td>\n",
       "    </tr>\n",
       "  </tbody>\n",
       "</table>\n",
       "</div>"
      ],
      "text/plain": [
       "    USER_ID  TOT_VISITS\n",
       "0  16797868           1\n",
       "1   3443604           1\n",
       "2  19200683           2\n",
       "3  12007242           1\n",
       "4  19211193           2"
      ]
     },
     "execution_count": 56,
     "metadata": {},
     "output_type": "execute_result"
    }
   ],
   "source": [
    "df = pd.read_csv('/Users/luca.rugiu/Desktop/Data_science_tools/Wilcoxon_test.csv')\n",
    "df.head()"
   ]
  },
  {
   "cell_type": "code",
   "execution_count": null,
   "id": "f0dcfea0",
   "metadata": {},
   "outputs": [],
   "source": [
    "df.groupby('TOT_VISITS').describe()"
   ]
  },
  {
   "cell_type": "code",
   "execution_count": 58,
   "id": "9368e860",
   "metadata": {},
   "outputs": [
    {
     "data": {
      "text/plain": [
       "array([[<AxesSubplot: title={'center': 'TOT_VISITS'}>]], dtype=object)"
      ]
     },
     "execution_count": 58,
     "metadata": {},
     "output_type": "execute_result"
    },
    {
     "data": {
      "image/png": "[encoded data removed]",
      "text/plain": [
       "<Figure size 640x480 with 1 Axes>"
      ]
     },
     "metadata": {},
     "output_type": "display_data"
    }
   ],
   "source": [
    "df.hist(column='TOT_VISITS')"
   ]
  },
  {
   "cell_type": "markdown",
   "id": "43424174",
   "metadata": {},
   "source": [
    "One-sample wilcoxon test"
   ]
  },
  {
   "cell_type": "code",
   "execution_count": 59,
   "id": "05a888db",
   "metadata": {},
   "outputs": [
    {
     "name": "stdout",
     "output_type": "stream",
     "text": [
      "one-sample t-test 0.0\n"
     ]
    }
   ],
   "source": [
    "# compare samples TO AN AVERAGE\n",
    "import numpy as np\n",
    "from scipy.stats import ttest_1samp, wilcoxon, ttest_ind, mannwhitneyu\n",
    "\n",
    "var = df['TOT_VISITS']\n",
    "z_statistic, p_value = wilcoxon(var - 389341)\n",
    "print (\"one-sample t-test\", p_value)"
   ]
  },
  {
   "cell_type": "code",
   "execution_count": null,
   "id": "d2956a12",
   "metadata": {},
   "outputs": [],
   "source": []
  }
 ],
 "metadata": {
  "kernelspec": {
   "display_name": "Python 3",
   "language": "python",
   "name": "python3"
  },
  "language_info": {
   "codemirror_mode": {
    "name": "ipython",
    "version": 3
   },
   "file_extension": ".py",
   "mimetype": "text/x-python",
   "name": "python",
   "nbconvert_exporter": "python",
   "pygments_lexer": "ipython3",
   "version": "3.9.15"
  }
 },
 "nbformat": 4,
 "nbformat_minor": 5
}
